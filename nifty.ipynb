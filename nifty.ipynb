{
 "cells": [
  {
   "cell_type": "code",
   "execution_count": 3,
   "id": "f46d6dfd-e82d-4cae-9c1c-4198fc40db53",
   "metadata": {},
   "outputs": [],
   "source": [
    "#so i am creating a stock price prediction model for nifty ."
   ]
  },
  {
   "cell_type": "code",
   "execution_count": 33,
   "id": "d7a8a216-dd86-46c2-bc6a-45369bf736ed",
   "metadata": {},
   "outputs": [],
   "source": [
    "# 1-> We will collect the stock Data--TTM--tata motors\n",
    "# 2->preprocess the Data - train and test\n",
    "# 3-> Create An Stacked LSTM model\n",
    "# 4-> Predict the test data and plot ouput \n",
    "# 5-> Predict the future 30 Days and plot the output"
   ]
  },
  {
   "cell_type": "code",
   "execution_count": 4,
   "id": "fa20f351-a8ed-44a7-80ab-496540bf2eb6",
   "metadata": {},
   "outputs": [
    {
     "name": "stdout",
     "output_type": "stream",
     "text": [
      "Collecting pandas_datareader\n",
      "  Downloading pandas_datareader-0.10.0-py3-none-any.whl.metadata (2.9 kB)\n",
      "Collecting lxml (from pandas_datareader)\n",
      "  Downloading lxml-5.4.0-cp311-cp311-win_amd64.whl.metadata (3.6 kB)\n",
      "Requirement already satisfied: pandas>=0.23 in c:\\users\\mishr\\appdata\\local\\packages\\pythonsoftwarefoundation.python.3.11_qbz5n2kfra8p0\\localcache\\local-packages\\python311\\site-packages (from pandas_datareader) (2.2.3)\n",
      "Requirement already satisfied: requests>=2.19.0 in c:\\users\\mishr\\appdata\\local\\packages\\pythonsoftwarefoundation.python.3.11_qbz5n2kfra8p0\\localcache\\local-packages\\python311\\site-packages (from pandas_datareader) (2.32.3)\n",
      "Requirement already satisfied: numpy>=1.23.2 in c:\\users\\mishr\\appdata\\local\\packages\\pythonsoftwarefoundation.python.3.11_qbz5n2kfra8p0\\localcache\\local-packages\\python311\\site-packages (from pandas>=0.23->pandas_datareader) (2.1.3)\n",
      "Requirement already satisfied: python-dateutil>=2.8.2 in c:\\users\\mishr\\appdata\\local\\packages\\pythonsoftwarefoundation.python.3.11_qbz5n2kfra8p0\\localcache\\local-packages\\python311\\site-packages (from pandas>=0.23->pandas_datareader) (2.9.0.post0)\n",
      "Requirement already satisfied: pytz>=2020.1 in c:\\users\\mishr\\appdata\\local\\packages\\pythonsoftwarefoundation.python.3.11_qbz5n2kfra8p0\\localcache\\local-packages\\python311\\site-packages (from pandas>=0.23->pandas_datareader) (2025.2)\n",
      "Requirement already satisfied: tzdata>=2022.7 in c:\\users\\mishr\\appdata\\local\\packages\\pythonsoftwarefoundation.python.3.11_qbz5n2kfra8p0\\localcache\\local-packages\\python311\\site-packages (from pandas>=0.23->pandas_datareader) (2025.2)\n",
      "Requirement already satisfied: six>=1.5 in c:\\users\\mishr\\appdata\\local\\packages\\pythonsoftwarefoundation.python.3.11_qbz5n2kfra8p0\\localcache\\local-packages\\python311\\site-packages (from python-dateutil>=2.8.2->pandas>=0.23->pandas_datareader) (1.17.0)\n",
      "Requirement already satisfied: charset-normalizer<4,>=2 in c:\\users\\mishr\\appdata\\local\\packages\\pythonsoftwarefoundation.python.3.11_qbz5n2kfra8p0\\localcache\\local-packages\\python311\\site-packages (from requests>=2.19.0->pandas_datareader) (3.4.1)\n",
      "Requirement already satisfied: idna<4,>=2.5 in c:\\users\\mishr\\appdata\\local\\packages\\pythonsoftwarefoundation.python.3.11_qbz5n2kfra8p0\\localcache\\local-packages\\python311\\site-packages (from requests>=2.19.0->pandas_datareader) (3.10)\n",
      "Requirement already satisfied: urllib3<3,>=1.21.1 in c:\\users\\mishr\\appdata\\local\\packages\\pythonsoftwarefoundation.python.3.11_qbz5n2kfra8p0\\localcache\\local-packages\\python311\\site-packages (from requests>=2.19.0->pandas_datareader) (2.4.0)\n",
      "Requirement already satisfied: certifi>=2017.4.17 in c:\\users\\mishr\\appdata\\local\\packages\\pythonsoftwarefoundation.python.3.11_qbz5n2kfra8p0\\localcache\\local-packages\\python311\\site-packages (from requests>=2.19.0->pandas_datareader) (2025.1.31)\n",
      "Downloading pandas_datareader-0.10.0-py3-none-any.whl (109 kB)\n",
      "Downloading lxml-5.4.0-cp311-cp311-win_amd64.whl (3.8 MB)\n",
      "   ---------------------------------------- 0.0/3.8 MB ? eta -:--:--\n",
      "   -------- ------------------------------- 0.8/3.8 MB 6.7 MB/s eta 0:00:01\n",
      "   ------------------- -------------------- 1.8/3.8 MB 4.6 MB/s eta 0:00:01\n",
      "   --------------------------- ------------ 2.6/3.8 MB 4.2 MB/s eta 0:00:01\n",
      "   ----------------------------------- ---- 3.4/3.8 MB 4.2 MB/s eta 0:00:01\n",
      "   ---------------------------------------- 3.8/3.8 MB 4.1 MB/s eta 0:00:00\n",
      "Installing collected packages: lxml, pandas_datareader\n",
      "\n",
      "   ---------------------------------------- 0/2 [lxml]\n",
      "   ---------------------------------------- 0/2 [lxml]\n",
      "   ---------------------------------------- 0/2 [lxml]\n",
      "   -------------------- ------------------- 1/2 [pandas_datareader]\n",
      "   -------------------- ------------------- 1/2 [pandas_datareader]\n",
      "   -------------------- ------------------- 1/2 [pandas_datareader]\n",
      "   -------------------- ------------------- 1/2 [pandas_datareader]\n",
      "   -------------------- ------------------- 1/2 [pandas_datareader]\n",
      "   -------------------- ------------------- 1/2 [pandas_datareader]\n",
      "   -------------------- ------------------- 1/2 [pandas_datareader]\n",
      "   -------------------- ------------------- 1/2 [pandas_datareader]\n",
      "   ---------------------------------------- 2/2 [pandas_datareader]\n",
      "\n",
      "Successfully installed lxml-5.4.0 pandas_datareader-0.10.0\n",
      "Note: you may need to restart the kernel to use updated packages.\n"
     ]
    }
   ],
   "source": [
    "pip install pandas_datareader\n"
   ]
  },
  {
   "cell_type": "code",
   "execution_count": 7,
   "id": "39e50e26-9188-4449-a544-af0ffd3f8e2a",
   "metadata": {},
   "outputs": [
    {
     "name": "stdout",
     "output_type": "stream",
     "text": [
      "Collecting alpha_vantage\n",
      "  Downloading alpha_vantage-3.0.0-py3-none-any.whl.metadata (12 kB)\n",
      "Collecting aiohttp (from alpha_vantage)\n",
      "  Downloading aiohttp-3.12.9-cp311-cp311-win_amd64.whl.metadata (7.9 kB)\n",
      "Requirement already satisfied: requests in c:\\users\\mishr\\appdata\\local\\packages\\pythonsoftwarefoundation.python.3.11_qbz5n2kfra8p0\\localcache\\local-packages\\python311\\site-packages (from alpha_vantage) (2.32.3)\n",
      "Collecting aiohappyeyeballs>=2.5.0 (from aiohttp->alpha_vantage)\n",
      "  Downloading aiohappyeyeballs-2.6.1-py3-none-any.whl.metadata (5.9 kB)\n",
      "Collecting aiosignal>=1.1.2 (from aiohttp->alpha_vantage)\n",
      "  Downloading aiosignal-1.3.2-py2.py3-none-any.whl.metadata (3.8 kB)\n",
      "Requirement already satisfied: attrs>=17.3.0 in c:\\users\\mishr\\appdata\\local\\packages\\pythonsoftwarefoundation.python.3.11_qbz5n2kfra8p0\\localcache\\local-packages\\python311\\site-packages (from aiohttp->alpha_vantage) (25.3.0)\n",
      "Collecting frozenlist>=1.1.1 (from aiohttp->alpha_vantage)\n",
      "  Downloading frozenlist-1.6.2-cp311-cp311-win_amd64.whl.metadata (17 kB)\n",
      "Collecting multidict<7.0,>=4.5 (from aiohttp->alpha_vantage)\n",
      "  Downloading multidict-6.4.4-cp311-cp311-win_amd64.whl.metadata (5.5 kB)\n",
      "Collecting propcache>=0.2.0 (from aiohttp->alpha_vantage)\n",
      "  Downloading propcache-0.3.1-cp311-cp311-win_amd64.whl.metadata (11 kB)\n",
      "Collecting yarl<2.0,>=1.17.0 (from aiohttp->alpha_vantage)\n",
      "  Downloading yarl-1.20.0-cp311-cp311-win_amd64.whl.metadata (74 kB)\n",
      "Requirement already satisfied: idna>=2.0 in c:\\users\\mishr\\appdata\\local\\packages\\pythonsoftwarefoundation.python.3.11_qbz5n2kfra8p0\\localcache\\local-packages\\python311\\site-packages (from yarl<2.0,>=1.17.0->aiohttp->alpha_vantage) (3.10)\n",
      "Requirement already satisfied: charset-normalizer<4,>=2 in c:\\users\\mishr\\appdata\\local\\packages\\pythonsoftwarefoundation.python.3.11_qbz5n2kfra8p0\\localcache\\local-packages\\python311\\site-packages (from requests->alpha_vantage) (3.4.1)\n",
      "Requirement already satisfied: urllib3<3,>=1.21.1 in c:\\users\\mishr\\appdata\\local\\packages\\pythonsoftwarefoundation.python.3.11_qbz5n2kfra8p0\\localcache\\local-packages\\python311\\site-packages (from requests->alpha_vantage) (2.4.0)\n",
      "Requirement already satisfied: certifi>=2017.4.17 in c:\\users\\mishr\\appdata\\local\\packages\\pythonsoftwarefoundation.python.3.11_qbz5n2kfra8p0\\localcache\\local-packages\\python311\\site-packages (from requests->alpha_vantage) (2025.1.31)\n",
      "Downloading alpha_vantage-3.0.0-py3-none-any.whl (35 kB)\n",
      "Downloading aiohttp-3.12.9-cp311-cp311-win_amd64.whl (449 kB)\n",
      "Downloading multidict-6.4.4-cp311-cp311-win_amd64.whl (38 kB)\n",
      "Downloading yarl-1.20.0-cp311-cp311-win_amd64.whl (93 kB)\n",
      "Downloading aiohappyeyeballs-2.6.1-py3-none-any.whl (15 kB)\n",
      "Downloading aiosignal-1.3.2-py2.py3-none-any.whl (7.6 kB)\n",
      "Downloading frozenlist-1.6.2-cp311-cp311-win_amd64.whl (45 kB)\n",
      "Downloading propcache-0.3.1-cp311-cp311-win_amd64.whl (45 kB)\n",
      "Installing collected packages: propcache, multidict, frozenlist, aiohappyeyeballs, yarl, aiosignal, aiohttp, alpha_vantage\n",
      "\n",
      "   ----- ---------------------------------- 1/8 [multidict]\n",
      "   --------------- ------------------------ 3/8 [aiohappyeyeballs]\n",
      "   -------------------- ------------------- 4/8 [yarl]\n",
      "   ------------------------- -------------- 5/8 [aiosignal]\n",
      "   ------------------------------ --------- 6/8 [aiohttp]\n",
      "   ------------------------------ --------- 6/8 [aiohttp]\n",
      "   ------------------------------ --------- 6/8 [aiohttp]\n",
      "   ------------------------------ --------- 6/8 [aiohttp]\n",
      "   ------------------------------ --------- 6/8 [aiohttp]\n",
      "   ------------------------------ --------- 6/8 [aiohttp]\n",
      "   ------------------------------ --------- 6/8 [aiohttp]\n",
      "   ------------------------------ --------- 6/8 [aiohttp]\n",
      "   ------------------------------ --------- 6/8 [aiohttp]\n",
      "   ------------------------------ --------- 6/8 [aiohttp]\n",
      "   ------------------------------ --------- 6/8 [aiohttp]\n",
      "   ----------------------------------- ---- 7/8 [alpha_vantage]\n",
      "   ----------------------------------- ---- 7/8 [alpha_vantage]\n",
      "   ----------------------------------- ---- 7/8 [alpha_vantage]\n",
      "   ---------------------------------------- 8/8 [alpha_vantage]\n",
      "\n",
      "Successfully installed aiohappyeyeballs-2.6.1 aiohttp-3.12.9 aiosignal-1.3.2 alpha_vantage-3.0.0 frozenlist-1.6.2 multidict-6.4.4 propcache-0.3.1 yarl-1.20.0\n",
      "Note: you may need to restart the kernel to use updated packages.\n"
     ]
    }
   ],
   "source": [
    "pip install alpha_vantage"
   ]
  },
  {
   "cell_type": "code",
   "execution_count": null,
   "id": "ec78d89f-67d1-44c1-a6bd-ea43df151856",
   "metadata": {},
   "outputs": [
    {
     "data": {
      "text/plain": [
       "(            1. open  2. high  3. low  4. close  5. adjusted close   6. volume  \\\n",
       " date                                                                            \n",
       " 2023-05-12    25.14    25.14   25.14     25.14            25.1400         0.0   \n",
       " 2023-04-28    25.14    25.14   25.14     25.14            25.1400         0.0   \n",
       " 2023-03-31    25.14    25.14   25.14     25.14            25.1400         0.0   \n",
       " 2023-02-28    25.14    25.14   25.14     25.14            25.1400         0.0   \n",
       " 2023-01-31    23.40    25.93   22.61     25.14            25.1400  32189809.0   \n",
       " ...             ...      ...     ...       ...                ...         ...   \n",
       " 2005-02-28    11.35    11.64   10.66     10.88             9.2084   4014900.0   \n",
       " 2005-01-31    12.22    12.25   10.45     11.63             9.8431   5082700.0   \n",
       " 2004-12-31    11.00    12.18   10.71     11.92            10.0886   7659800.0   \n",
       " 2004-11-30     9.20    11.19    9.10     11.13             9.4200   5777800.0   \n",
       " 2004-10-29     9.14     9.66    8.73      9.25             7.8288   4772900.0   \n",
       " \n",
       "             7. dividend amount  \n",
       " date                            \n",
       " 2023-05-12                 0.0  \n",
       " 2023-04-28                 0.0  \n",
       " 2023-03-31                 0.0  \n",
       " 2023-02-28                 0.0  \n",
       " 2023-01-31                 0.0  \n",
       " ...                        ...  \n",
       " 2005-02-28                 0.0  \n",
       " 2005-01-31                 0.0  \n",
       " 2004-12-31                 0.0  \n",
       " 2004-11-30                 0.0  \n",
       " 2004-10-29                 0.0  \n",
       " \n",
       " [224 rows x 7 columns],\n",
       " {'1. Information': 'Monthly Adjusted Prices and Volumes',\n",
       "  '2. Symbol': 'TTM',\n",
       "  '3. Last Refreshed': '2023-05-12',\n",
       "  '4. Time Zone': 'US/Eastern'})"
      ]
     },
     "execution_count": 96,
     "metadata": {},
     "output_type": "execute_result"
    }
   ],
   "source": [
    "import pandas_datareader as pdr\n",
    "from alpha_vantage.timeseries import TimeSeries\n",
    "\n",
    "key = 'API_KEY'\n",
    "\n",
    "ts = TimeSeries(key = key,output_format='pandas')\n",
    "\n",
    "data = ts.get_monthly_adjusted('TTM')\n",
    "\n",
    "data"
   ]
  },
  {
   "cell_type": "code",
   "execution_count": 97,
   "id": "72609ec3-f2d4-4952-921c-401459eca533",
   "metadata": {},
   "outputs": [],
   "source": [
    "\n",
    "df = pdr.get_data_alphavantage('TTM', api_key=key) "
   ]
  },
  {
   "cell_type": "code",
   "execution_count": 98,
   "id": "636c03b3-5583-4455-83d3-a59e452bbb6b",
   "metadata": {},
   "outputs": [],
   "source": [
    "df.to_csv('TTM.csv')"
   ]
  },
  {
   "cell_type": "code",
   "execution_count": 99,
   "id": "0d038130-ad7b-463e-a881-4486669e978d",
   "metadata": {},
   "outputs": [],
   "source": [
    "import pandas as pd"
   ]
  },
  {
   "cell_type": "code",
   "execution_count": 100,
   "id": "178514aa-9f7d-48ac-adfa-1b3efe78c2ec",
   "metadata": {},
   "outputs": [],
   "source": [
    "df=pd.read_csv('TTM.csv')"
   ]
  },
  {
   "cell_type": "code",
   "execution_count": 101,
   "id": "7e51edd7-dfb1-4e95-86e3-f915eb3f8ce1",
   "metadata": {},
   "outputs": [
    {
     "data": {
      "text/html": [
       "<div>\n",
       "<style scoped>\n",
       "    .dataframe tbody tr th:only-of-type {\n",
       "        vertical-align: middle;\n",
       "    }\n",
       "\n",
       "    .dataframe tbody tr th {\n",
       "        vertical-align: top;\n",
       "    }\n",
       "\n",
       "    .dataframe thead th {\n",
       "        text-align: right;\n",
       "    }\n",
       "</style>\n",
       "<table border=\"1\" class=\"dataframe\">\n",
       "  <thead>\n",
       "    <tr style=\"text-align: right;\">\n",
       "      <th></th>\n",
       "      <th>Unnamed: 0</th>\n",
       "      <th>open</th>\n",
       "      <th>high</th>\n",
       "      <th>low</th>\n",
       "      <th>close</th>\n",
       "      <th>volume</th>\n",
       "    </tr>\n",
       "  </thead>\n",
       "  <tbody>\n",
       "    <tr>\n",
       "      <th>0</th>\n",
       "      <td>2005-06-10</td>\n",
       "      <td>9.78</td>\n",
       "      <td>9.79</td>\n",
       "      <td>9.60</td>\n",
       "      <td>9.64</td>\n",
       "      <td>257100</td>\n",
       "    </tr>\n",
       "    <tr>\n",
       "      <th>1</th>\n",
       "      <td>2005-06-13</td>\n",
       "      <td>9.60</td>\n",
       "      <td>9.75</td>\n",
       "      <td>9.59</td>\n",
       "      <td>9.63</td>\n",
       "      <td>144500</td>\n",
       "    </tr>\n",
       "    <tr>\n",
       "      <th>2</th>\n",
       "      <td>2005-06-14</td>\n",
       "      <td>9.73</td>\n",
       "      <td>9.73</td>\n",
       "      <td>9.55</td>\n",
       "      <td>9.60</td>\n",
       "      <td>49200</td>\n",
       "    </tr>\n",
       "    <tr>\n",
       "      <th>3</th>\n",
       "      <td>2005-06-15</td>\n",
       "      <td>9.60</td>\n",
       "      <td>9.70</td>\n",
       "      <td>9.60</td>\n",
       "      <td>9.60</td>\n",
       "      <td>90600</td>\n",
       "    </tr>\n",
       "    <tr>\n",
       "      <th>4</th>\n",
       "      <td>2005-06-16</td>\n",
       "      <td>9.66</td>\n",
       "      <td>9.74</td>\n",
       "      <td>9.62</td>\n",
       "      <td>9.70</td>\n",
       "      <td>178900</td>\n",
       "    </tr>\n",
       "  </tbody>\n",
       "</table>\n",
       "</div>"
      ],
      "text/plain": [
       "   Unnamed: 0  open  high   low  close  volume\n",
       "0  2005-06-10  9.78  9.79  9.60   9.64  257100\n",
       "1  2005-06-13  9.60  9.75  9.59   9.63  144500\n",
       "2  2005-06-14  9.73  9.73  9.55   9.60   49200\n",
       "3  2005-06-15  9.60  9.70  9.60   9.60   90600\n",
       "4  2005-06-16  9.66  9.74  9.62   9.70  178900"
      ]
     },
     "execution_count": 101,
     "metadata": {},
     "output_type": "execute_result"
    }
   ],
   "source": [
    "df.head()"
   ]
  },
  {
   "cell_type": "code",
   "execution_count": 102,
   "id": "3b23c25a-78ae-45d8-abe6-82504e2cc8fd",
   "metadata": {},
   "outputs": [
    {
     "data": {
      "text/plain": [
       "(4512, 6)"
      ]
     },
     "execution_count": 102,
     "metadata": {},
     "output_type": "execute_result"
    }
   ],
   "source": [
    "df.shape"
   ]
  },
  {
   "cell_type": "code",
   "execution_count": 103,
   "id": "b857c047-72c4-41a8-824b-1f926098ef79",
   "metadata": {},
   "outputs": [
    {
     "data": {
      "text/html": [
       "<div>\n",
       "<style scoped>\n",
       "    .dataframe tbody tr th:only-of-type {\n",
       "        vertical-align: middle;\n",
       "    }\n",
       "\n",
       "    .dataframe tbody tr th {\n",
       "        vertical-align: top;\n",
       "    }\n",
       "\n",
       "    .dataframe thead th {\n",
       "        text-align: right;\n",
       "    }\n",
       "</style>\n",
       "<table border=\"1\" class=\"dataframe\">\n",
       "  <thead>\n",
       "    <tr style=\"text-align: right;\">\n",
       "      <th></th>\n",
       "      <th>Unnamed: 0</th>\n",
       "      <th>open</th>\n",
       "      <th>high</th>\n",
       "      <th>low</th>\n",
       "      <th>close</th>\n",
       "      <th>volume</th>\n",
       "    </tr>\n",
       "  </thead>\n",
       "  <tbody>\n",
       "    <tr>\n",
       "      <th>4507</th>\n",
       "      <td>2023-05-08</td>\n",
       "      <td>25.14</td>\n",
       "      <td>25.14</td>\n",
       "      <td>25.14</td>\n",
       "      <td>25.14</td>\n",
       "      <td>0</td>\n",
       "    </tr>\n",
       "    <tr>\n",
       "      <th>4508</th>\n",
       "      <td>2023-05-09</td>\n",
       "      <td>25.14</td>\n",
       "      <td>25.14</td>\n",
       "      <td>25.14</td>\n",
       "      <td>25.14</td>\n",
       "      <td>0</td>\n",
       "    </tr>\n",
       "    <tr>\n",
       "      <th>4509</th>\n",
       "      <td>2023-05-10</td>\n",
       "      <td>25.14</td>\n",
       "      <td>25.14</td>\n",
       "      <td>25.14</td>\n",
       "      <td>25.14</td>\n",
       "      <td>0</td>\n",
       "    </tr>\n",
       "    <tr>\n",
       "      <th>4510</th>\n",
       "      <td>2023-05-11</td>\n",
       "      <td>25.14</td>\n",
       "      <td>25.14</td>\n",
       "      <td>25.14</td>\n",
       "      <td>25.14</td>\n",
       "      <td>0</td>\n",
       "    </tr>\n",
       "    <tr>\n",
       "      <th>4511</th>\n",
       "      <td>2023-05-12</td>\n",
       "      <td>25.14</td>\n",
       "      <td>25.14</td>\n",
       "      <td>25.14</td>\n",
       "      <td>25.14</td>\n",
       "      <td>0</td>\n",
       "    </tr>\n",
       "  </tbody>\n",
       "</table>\n",
       "</div>"
      ],
      "text/plain": [
       "      Unnamed: 0   open   high    low  close  volume\n",
       "4507  2023-05-08  25.14  25.14  25.14  25.14       0\n",
       "4508  2023-05-09  25.14  25.14  25.14  25.14       0\n",
       "4509  2023-05-10  25.14  25.14  25.14  25.14       0\n",
       "4510  2023-05-11  25.14  25.14  25.14  25.14       0\n",
       "4511  2023-05-12  25.14  25.14  25.14  25.14       0"
      ]
     },
     "execution_count": 103,
     "metadata": {},
     "output_type": "execute_result"
    }
   ],
   "source": [
    "df.tail()"
   ]
  },
  {
   "cell_type": "code",
   "execution_count": 104,
   "id": "6ec98cd8-97b2-45e3-a7d2-cbb71570faea",
   "metadata": {},
   "outputs": [],
   "source": [
    "df1=df.reset_index()['close']"
   ]
  },
  {
   "cell_type": "code",
   "execution_count": 105,
   "id": "31bbe766-af5a-4939-8cc4-a4f10d78f578",
   "metadata": {},
   "outputs": [
    {
     "data": {
      "text/plain": [
       "(4512,)"
      ]
     },
     "execution_count": 105,
     "metadata": {},
     "output_type": "execute_result"
    }
   ],
   "source": [
    "df1.shape"
   ]
  },
  {
   "cell_type": "code",
   "execution_count": 106,
   "id": "ae783c4b-4681-49fb-a848-86c182d3f1e6",
   "metadata": {},
   "outputs": [
    {
     "data": {
      "text/plain": [
       "0        9.64\n",
       "1        9.63\n",
       "2        9.60\n",
       "3        9.60\n",
       "4        9.70\n",
       "        ...  \n",
       "4507    25.14\n",
       "4508    25.14\n",
       "4509    25.14\n",
       "4510    25.14\n",
       "4511    25.14\n",
       "Name: close, Length: 4512, dtype: float64"
      ]
     },
     "execution_count": 106,
     "metadata": {},
     "output_type": "execute_result"
    }
   ],
   "source": [
    "df1"
   ]
  },
  {
   "cell_type": "code",
   "execution_count": 107,
   "id": "69769bab-a3c9-4428-9b6d-7fff5c904abe",
   "metadata": {},
   "outputs": [
    {
     "data": {
      "text/plain": [
       "[<matplotlib.lines.Line2D at 0x23d99c04610>]"
      ]
     },
     "execution_count": 107,
     "metadata": {},
     "output_type": "execute_result"
    },
    {
     "data": {
      "image/png": "[encoded data removed]",
      "text/plain": [
       "<Figure size 640x480 with 1 Axes>"
      ]
     },
     "metadata": {},
     "output_type": "display_data"
    }
   ],
   "source": [
    "import matplotlib.pyplot as plt\n",
    "plt.plot(df1)"
   ]
  },
  {
   "cell_type": "code",
   "execution_count": 108,
   "id": "924f3fa0-575e-497e-99b4-c9f6e16820a2",
   "metadata": {
    "jupyter": {
     "source_hidden": true
    }
   },
   "outputs": [],
   "source": [
    "###LSTM are sensitive to the scale of the data . it is sensitive of scale of data , so we apply MinMax Scaler"
   ]
  },
  {
   "cell_type": "code",
   "execution_count": 109,
   "id": "89f7b1f5-6aa1-40c4-a2e3-f6c7a04aa174",
   "metadata": {},
   "outputs": [],
   "source": [
    "import numpy as np\n",
    "from sklearn.preprocessing import MinMaxScaler\n",
    "scaler=MinMaxScaler(feature_range=(0,1))\n",
    "df1=scaler.fit_transform(np.array(df1).reshape(-1,1))"
   ]
  },
  {
   "cell_type": "code",
   "execution_count": 110,
   "id": "f0703fef-ff9d-4ce2-b1c8-b8b07c8b4976",
   "metadata": {},
   "outputs": [
    {
     "data": {
      "text/plain": [
       "array([[0.13449203],\n",
       "       [0.13428512],\n",
       "       [0.13366439],\n",
       "       ...,\n",
       "       [0.45520381],\n",
       "       [0.45520381],\n",
       "       [0.45520381]])"
      ]
     },
     "execution_count": 110,
     "metadata": {},
     "output_type": "execute_result"
    }
   ],
   "source": [
    "df1"
   ]
  },
  {
   "cell_type": "code",
   "execution_count": 111,
   "id": "1b6223de-06bf-48bc-b656-ef7524b06350",
   "metadata": {},
   "outputs": [],
   "source": [
    "#splitting the dataset into train and test split \n",
    "training_size=int(len(df1)*0.65)\n",
    "#here i am saying that 65%of my dataset should be for training size\n",
    "test_size=len(df1)-training_size\n",
    "train_data,test_data=df1[0:training_size,:],df1[training_size:len(df1),:1]"
   ]
  },
  {
   "cell_type": "code",
   "execution_count": 112,
   "id": "39bcd238-23bb-42ca-b2c3-d54551533812",
   "metadata": {},
   "outputs": [
    {
     "data": {
      "text/plain": [
       "(2932, 1580)"
      ]
     },
     "execution_count": 112,
     "metadata": {},
     "output_type": "execute_result"
    }
   ],
   "source": [
    "training_size,test_size"
   ]
  },
  {
   "cell_type": "code",
   "execution_count": 113,
   "id": "6800a574-8dac-411d-a904-f99324564f71",
   "metadata": {},
   "outputs": [],
   "source": [
    "import numpy \n",
    "# convert an array of value into a dataset matrix\n",
    "def create_dataset(dataset, time_step=1):\n",
    "    dataX, dataY = [], []\n",
    "    for i in range(len(dataset)-time_step-1):\n",
    "        a = dataset[i:(i+time_step), 0] ### i=0 ,0,1,,2,3\n",
    "        dataX.append(a)\n",
    "        dataY.append(dataset[i + time_step, 0])\n",
    "    return numpy.array(dataX), numpy.array(dataY)"
   ]
  },
  {
   "cell_type": "code",
   "execution_count": 114,
   "id": "db811d39-e337-4b15-89a1-e83891f18db7",
   "metadata": {},
   "outputs": [],
   "source": [
    "#reshape into X=t, t+1,t+2, t+3 and t+4\n",
    "time_step = 100\n",
    "X_train, y_train = create_dataset(train_data, time_step)\n",
    "x_test, y_test = create_dataset(test_data, time_step)"
   ]
  },
  {
   "cell_type": "code",
   "execution_count": 115,
   "id": "d20eea9e-0c17-4e5e-b299-bb7941da64e2",
   "metadata": {},
   "outputs": [
    {
     "name": "stdout",
     "output_type": "stream",
     "text": [
      "(2831, 100)\n",
      "(2831,)\n"
     ]
    },
    {
     "data": {
      "text/plain": [
       "(None, None)"
      ]
     },
     "execution_count": 115,
     "metadata": {},
     "output_type": "execute_result"
    }
   ],
   "source": [
    "print(X_train.shape), print(y_train.shape)"
   ]
  },
  {
   "cell_type": "code",
   "execution_count": 116,
   "id": "92861961-7305-4db1-9702-6d78fc237bdb",
   "metadata": {},
   "outputs": [
    {
     "name": "stdout",
     "output_type": "stream",
     "text": [
      "(1479, 100)\n",
      "(1479,)\n"
     ]
    },
    {
     "data": {
      "text/plain": [
       "(None, None)"
      ]
     },
     "execution_count": 116,
     "metadata": {},
     "output_type": "execute_result"
    }
   ],
   "source": [
    "print(x_test.shape), print(y_test.shape)"
   ]
  },
  {
   "cell_type": "code",
   "execution_count": 117,
   "id": "820e8693-0b98-4fe9-8585-303c169bbad0",
   "metadata": {},
   "outputs": [],
   "source": [
    "#reshape input to be [samples, time steps, feature] which is required for LSTM\n",
    "X_train = X_train.reshape(X_train.shape[0], X_train.shape[1] , 1)\n",
    "x_test = x_test.reshape(x_test.shape[0], x_test.shape[1] , 1)"
   ]
  },
  {
   "cell_type": "code",
   "execution_count": 118,
   "id": "f597852b-ad0d-44ba-aa8b-3e24f1edd485",
   "metadata": {},
   "outputs": [],
   "source": [
    "###create the stacked LSTM models\n",
    "from tensorflow.keras.models import Sequential\n",
    "from tensorflow.keras.layers import Dense\n",
    "from tensorflow.keras.layers import LSTM"
   ]
  },
  {
   "cell_type": "code",
   "execution_count": 119,
   "id": "8ffe7698-9e79-495a-83a0-92f18dd69727",
   "metadata": {},
   "outputs": [
    {
     "name": "stderr",
     "output_type": "stream",
     "text": [
      "C:\\Users\\mishr\\AppData\\Local\\Packages\\PythonSoftwareFoundation.Python.3.11_qbz5n2kfra8p0\\LocalCache\\local-packages\\Python311\\site-packages\\keras\\src\\layers\\rnn\\rnn.py:200: UserWarning: Do not pass an `input_shape`/`input_dim` argument to a layer. When using Sequential models, prefer using an `Input(shape)` object as the first layer in the model instead.\n",
      "  super().__init__(**kwargs)\n"
     ]
    }
   ],
   "source": [
    "model=Sequential()\n",
    "model.add(LSTM(50,return_sequences=True,input_shape=(100,1)))\n",
    "model.add(LSTM(50,return_sequences=True))\n",
    "model.add(LSTM(50))\n",
    "model.add(Dense(1))\n",
    "model.compile(loss='mean_squared_error',optimizer='adam')"
   ]
  },
  {
   "cell_type": "code",
   "execution_count": 120,
   "id": "93cac039-d6c0-4080-b24f-d8bf87eb584a",
   "metadata": {},
   "outputs": [
    {
     "data": {
      "text/html": [
       "<pre style=\"white-space:pre;overflow-x:auto;line-height:normal;font-family:Menlo,'DejaVu Sans Mono',consolas,'Courier New',monospace\"><span style=\"font-weight: bold\">Model: \"sequential_2\"</span>\n",
       "</pre>\n"
      ],
      "text/plain": [
       "\u001b[1mModel: \"sequential_2\"\u001b[0m\n"
      ]
     },
     "metadata": {},
     "output_type": "display_data"
    },
    {
     "data": {
      "text/html": [
       "<pre style=\"white-space:pre;overflow-x:auto;line-height:normal;font-family:Menlo,'DejaVu Sans Mono',consolas,'Courier New',monospace\">┏━━━━━━━━━━━━━━━━━━━━━━━━━━━━━━━━━━━━━━┳━━━━━━━━━━━━━━━━━━━━━━━━━━━━━┳━━━━━━━━━━━━━━━━━┓\n",
       "┃<span style=\"font-weight: bold\"> Layer (type)                         </span>┃<span style=\"font-weight: bold\"> Output Shape                </span>┃<span style=\"font-weight: bold\">         Param # </span>┃\n",
       "┡━━━━━━━━━━━━━━━━━━━━━━━━━━━━━━━━━━━━━━╇━━━━━━━━━━━━━━━━━━━━━━━━━━━━━╇━━━━━━━━━━━━━━━━━┩\n",
       "│ lstm_6 (<span style=\"color: #0087ff; text-decoration-color: #0087ff\">LSTM</span>)                        │ (<span style=\"color: #00d7ff; text-decoration-color: #00d7ff\">None</span>, <span style=\"color: #00af00; text-decoration-color: #00af00\">100</span>, <span style=\"color: #00af00; text-decoration-color: #00af00\">50</span>)             │          <span style=\"color: #00af00; text-decoration-color: #00af00\">10,400</span> │\n",
       "├──────────────────────────────────────┼─────────────────────────────┼─────────────────┤\n",
       "│ lstm_7 (<span style=\"color: #0087ff; text-decoration-color: #0087ff\">LSTM</span>)                        │ (<span style=\"color: #00d7ff; text-decoration-color: #00d7ff\">None</span>, <span style=\"color: #00af00; text-decoration-color: #00af00\">100</span>, <span style=\"color: #00af00; text-decoration-color: #00af00\">50</span>)             │          <span style=\"color: #00af00; text-decoration-color: #00af00\">20,200</span> │\n",
       "├──────────────────────────────────────┼─────────────────────────────┼─────────────────┤\n",
       "│ lstm_8 (<span style=\"color: #0087ff; text-decoration-color: #0087ff\">LSTM</span>)                        │ (<span style=\"color: #00d7ff; text-decoration-color: #00d7ff\">None</span>, <span style=\"color: #00af00; text-decoration-color: #00af00\">50</span>)                  │          <span style=\"color: #00af00; text-decoration-color: #00af00\">20,200</span> │\n",
       "├──────────────────────────────────────┼─────────────────────────────┼─────────────────┤\n",
       "│ dense_2 (<span style=\"color: #0087ff; text-decoration-color: #0087ff\">Dense</span>)                      │ (<span style=\"color: #00d7ff; text-decoration-color: #00d7ff\">None</span>, <span style=\"color: #00af00; text-decoration-color: #00af00\">1</span>)                   │              <span style=\"color: #00af00; text-decoration-color: #00af00\">51</span> │\n",
       "└──────────────────────────────────────┴─────────────────────────────┴─────────────────┘\n",
       "</pre>\n"
      ],
      "text/plain": [
       "┏━━━━━━━━━━━━━━━━━━━━━━━━━━━━━━━━━━━━━━┳━━━━━━━━━━━━━━━━━━━━━━━━━━━━━┳━━━━━━━━━━━━━━━━━┓\n",
       "┃\u001b[1m \u001b[0m\u001b[1mLayer (type)                        \u001b[0m\u001b[1m \u001b[0m┃\u001b[1m \u001b[0m\u001b[1mOutput Shape               \u001b[0m\u001b[1m \u001b[0m┃\u001b[1m \u001b[0m\u001b[1m        Param #\u001b[0m\u001b[1m \u001b[0m┃\n",
       "┡━━━━━━━━━━━━━━━━━━━━━━━━━━━━━━━━━━━━━━╇━━━━━━━━━━━━━━━━━━━━━━━━━━━━━╇━━━━━━━━━━━━━━━━━┩\n",
       "│ lstm_6 (\u001b[38;5;33mLSTM\u001b[0m)                        │ (\u001b[38;5;45mNone\u001b[0m, \u001b[38;5;34m100\u001b[0m, \u001b[38;5;34m50\u001b[0m)             │          \u001b[38;5;34m10,400\u001b[0m │\n",
       "├──────────────────────────────────────┼─────────────────────────────┼─────────────────┤\n",
       "│ lstm_7 (\u001b[38;5;33mLSTM\u001b[0m)                        │ (\u001b[38;5;45mNone\u001b[0m, \u001b[38;5;34m100\u001b[0m, \u001b[38;5;34m50\u001b[0m)             │          \u001b[38;5;34m20,200\u001b[0m │\n",
       "├──────────────────────────────────────┼─────────────────────────────┼─────────────────┤\n",
       "│ lstm_8 (\u001b[38;5;33mLSTM\u001b[0m)                        │ (\u001b[38;5;45mNone\u001b[0m, \u001b[38;5;34m50\u001b[0m)                  │          \u001b[38;5;34m20,200\u001b[0m │\n",
       "├──────────────────────────────────────┼─────────────────────────────┼─────────────────┤\n",
       "│ dense_2 (\u001b[38;5;33mDense\u001b[0m)                      │ (\u001b[38;5;45mNone\u001b[0m, \u001b[38;5;34m1\u001b[0m)                   │              \u001b[38;5;34m51\u001b[0m │\n",
       "└──────────────────────────────────────┴─────────────────────────────┴─────────────────┘\n"
      ]
     },
     "metadata": {},
     "output_type": "display_data"
    },
    {
     "data": {
      "text/html": [
       "<pre style=\"white-space:pre;overflow-x:auto;line-height:normal;font-family:Menlo,'DejaVu Sans Mono',consolas,'Courier New',monospace\"><span style=\"font-weight: bold\"> Total params: </span><span style=\"color: #00af00; text-decoration-color: #00af00\">50,851</span> (198.64 KB)\n",
       "</pre>\n"
      ],
      "text/plain": [
       "\u001b[1m Total params: \u001b[0m\u001b[38;5;34m50,851\u001b[0m (198.64 KB)\n"
      ]
     },
     "metadata": {},
     "output_type": "display_data"
    },
    {
     "data": {
      "text/html": [
       "<pre style=\"white-space:pre;overflow-x:auto;line-height:normal;font-family:Menlo,'DejaVu Sans Mono',consolas,'Courier New',monospace\"><span style=\"font-weight: bold\"> Trainable params: </span><span style=\"color: #00af00; text-decoration-color: #00af00\">50,851</span> (198.64 KB)\n",
       "</pre>\n"
      ],
      "text/plain": [
       "\u001b[1m Trainable params: \u001b[0m\u001b[38;5;34m50,851\u001b[0m (198.64 KB)\n"
      ]
     },
     "metadata": {},
     "output_type": "display_data"
    },
    {
     "data": {
      "text/html": [
       "<pre style=\"white-space:pre;overflow-x:auto;line-height:normal;font-family:Menlo,'DejaVu Sans Mono',consolas,'Courier New',monospace\"><span style=\"font-weight: bold\"> Non-trainable params: </span><span style=\"color: #00af00; text-decoration-color: #00af00\">0</span> (0.00 B)\n",
       "</pre>\n"
      ],
      "text/plain": [
       "\u001b[1m Non-trainable params: \u001b[0m\u001b[38;5;34m0\u001b[0m (0.00 B)\n"
      ]
     },
     "metadata": {},
     "output_type": "display_data"
    }
   ],
   "source": [
    "model.summary()"
   ]
  },
  {
   "cell_type": "code",
   "execution_count": 121,
   "id": "2d0ce2aa-1bd3-4eb9-b9c6-b0c8eed8271d",
   "metadata": {},
   "outputs": [
    {
     "name": "stdout",
     "output_type": "stream",
     "text": [
      "Epoch 1/100\n",
      "\u001b[1m45/45\u001b[0m \u001b[32m━━━━━━━━━━━━━━━━━━━━\u001b[0m\u001b[37m\u001b[0m \u001b[1m8s\u001b[0m 106ms/step - loss: 0.0506 - val_loss: 0.0013\n",
      "Epoch 2/100\n",
      "\u001b[1m45/45\u001b[0m \u001b[32m━━━━━━━━━━━━━━━━━━━━\u001b[0m\u001b[37m\u001b[0m \u001b[1m4s\u001b[0m 95ms/step - loss: 0.0016 - val_loss: 0.0015\n",
      "Epoch 3/100\n",
      "\u001b[1m45/45\u001b[0m \u001b[32m━━━━━━━━━━━━━━━━━━━━\u001b[0m\u001b[37m\u001b[0m \u001b[1m5s\u001b[0m 108ms/step - loss: 0.0014 - val_loss: 0.0012\n",
      "Epoch 4/100\n",
      "\u001b[1m45/45\u001b[0m \u001b[32m━━━━━━━━━━━━━━━━━━━━\u001b[0m\u001b[37m\u001b[0m \u001b[1m5s\u001b[0m 102ms/step - loss: 0.0013 - val_loss: 0.0011\n",
      "Epoch 5/100\n",
      "\u001b[1m45/45\u001b[0m \u001b[32m━━━━━━━━━━━━━━━━━━━━\u001b[0m\u001b[37m\u001b[0m \u001b[1m5s\u001b[0m 105ms/step - loss: 0.0013 - val_loss: 9.8621e-04\n",
      "Epoch 6/100\n",
      "\u001b[1m45/45\u001b[0m \u001b[32m━━━━━━━━━━━━━━━━━━━━\u001b[0m\u001b[37m\u001b[0m \u001b[1m5s\u001b[0m 101ms/step - loss: 0.0011 - val_loss: 8.8691e-04\n",
      "Epoch 7/100\n",
      "\u001b[1m45/45\u001b[0m \u001b[32m━━━━━━━━━━━━━━━━━━━━\u001b[0m\u001b[37m\u001b[0m \u001b[1m5s\u001b[0m 113ms/step - loss: 0.0010 - val_loss: 8.0850e-04\n",
      "Epoch 8/100\n",
      "\u001b[1m45/45\u001b[0m \u001b[32m━━━━━━━━━━━━━━━━━━━━\u001b[0m\u001b[37m\u001b[0m \u001b[1m5s\u001b[0m 119ms/step - loss: 9.7791e-04 - val_loss: 7.6274e-04\n",
      "Epoch 9/100\n",
      "\u001b[1m45/45\u001b[0m \u001b[32m━━━━━━━━━━━━━━━━━━━━\u001b[0m\u001b[37m\u001b[0m \u001b[1m5s\u001b[0m 116ms/step - loss: 9.4066e-04 - val_loss: 7.2176e-04\n",
      "Epoch 10/100\n",
      "\u001b[1m45/45\u001b[0m \u001b[32m━━━━━━━━━━━━━━━━━━━━\u001b[0m\u001b[37m\u001b[0m \u001b[1m5s\u001b[0m 100ms/step - loss: 8.3809e-04 - val_loss: 6.9277e-04\n",
      "Epoch 11/100\n",
      "\u001b[1m45/45\u001b[0m \u001b[32m━━━━━━━━━━━━━━━━━━━━\u001b[0m\u001b[37m\u001b[0m \u001b[1m5s\u001b[0m 107ms/step - loss: 7.5674e-04 - val_loss: 6.8056e-04\n",
      "Epoch 12/100\n",
      "\u001b[1m45/45\u001b[0m \u001b[32m━━━━━━━━━━━━━━━━━━━━\u001b[0m\u001b[37m\u001b[0m \u001b[1m4s\u001b[0m 95ms/step - loss: 8.3470e-04 - val_loss: 6.5757e-04\n",
      "Epoch 13/100\n",
      "\u001b[1m45/45\u001b[0m \u001b[32m━━━━━━━━━━━━━━━━━━━━\u001b[0m\u001b[37m\u001b[0m \u001b[1m5s\u001b[0m 104ms/step - loss: 7.7726e-04 - val_loss: 6.6698e-04\n",
      "Epoch 14/100\n",
      "\u001b[1m45/45\u001b[0m \u001b[32m━━━━━━━━━━━━━━━━━━━━\u001b[0m\u001b[37m\u001b[0m \u001b[1m4s\u001b[0m 92ms/step - loss: 6.6196e-04 - val_loss: 7.2982e-04\n",
      "Epoch 15/100\n",
      "\u001b[1m45/45\u001b[0m \u001b[32m━━━━━━━━━━━━━━━━━━━━\u001b[0m\u001b[37m\u001b[0m \u001b[1m4s\u001b[0m 99ms/step - loss: 6.8393e-04 - val_loss: 6.4053e-04\n",
      "Epoch 16/100\n",
      "\u001b[1m45/45\u001b[0m \u001b[32m━━━━━━━━━━━━━━━━━━━━\u001b[0m\u001b[37m\u001b[0m \u001b[1m4s\u001b[0m 99ms/step - loss: 7.2794e-04 - val_loss: 5.4537e-04\n",
      "Epoch 17/100\n",
      "\u001b[1m45/45\u001b[0m \u001b[32m━━━━━━━━━━━━━━━━━━━━\u001b[0m\u001b[37m\u001b[0m \u001b[1m4s\u001b[0m 93ms/step - loss: 6.4338e-04 - val_loss: 5.0621e-04\n",
      "Epoch 18/100\n",
      "\u001b[1m45/45\u001b[0m \u001b[32m━━━━━━━━━━━━━━━━━━━━\u001b[0m\u001b[37m\u001b[0m \u001b[1m6s\u001b[0m 125ms/step - loss: 5.9173e-04 - val_loss: 4.9152e-04\n",
      "Epoch 19/100\n",
      "\u001b[1m45/45\u001b[0m \u001b[32m━━━━━━━━━━━━━━━━━━━━\u001b[0m\u001b[37m\u001b[0m \u001b[1m5s\u001b[0m 120ms/step - loss: 6.0565e-04 - val_loss: 5.0959e-04\n",
      "Epoch 20/100\n",
      "\u001b[1m45/45\u001b[0m \u001b[32m━━━━━━━━━━━━━━━━━━━━\u001b[0m\u001b[37m\u001b[0m \u001b[1m5s\u001b[0m 119ms/step - loss: 5.1959e-04 - val_loss: 4.9896e-04\n",
      "Epoch 21/100\n",
      "\u001b[1m45/45\u001b[0m \u001b[32m━━━━━━━━━━━━━━━━━━━━\u001b[0m\u001b[37m\u001b[0m \u001b[1m5s\u001b[0m 114ms/step - loss: 4.9189e-04 - val_loss: 4.3120e-04\n",
      "Epoch 22/100\n",
      "\u001b[1m45/45\u001b[0m \u001b[32m━━━━━━━━━━━━━━━━━━━━\u001b[0m\u001b[37m\u001b[0m \u001b[1m5s\u001b[0m 117ms/step - loss: 4.5702e-04 - val_loss: 4.9351e-04\n",
      "Epoch 23/100\n",
      "\u001b[1m45/45\u001b[0m \u001b[32m━━━━━━━━━━━━━━━━━━━━\u001b[0m\u001b[37m\u001b[0m \u001b[1m5s\u001b[0m 112ms/step - loss: 4.9216e-04 - val_loss: 3.9986e-04\n",
      "Epoch 24/100\n",
      "\u001b[1m45/45\u001b[0m \u001b[32m━━━━━━━━━━━━━━━━━━━━\u001b[0m\u001b[37m\u001b[0m \u001b[1m5s\u001b[0m 104ms/step - loss: 4.7403e-04 - val_loss: 5.4504e-04\n",
      "Epoch 25/100\n",
      "\u001b[1m45/45\u001b[0m \u001b[32m━━━━━━━━━━━━━━━━━━━━\u001b[0m\u001b[37m\u001b[0m \u001b[1m5s\u001b[0m 106ms/step - loss: 4.7347e-04 - val_loss: 3.8096e-04\n",
      "Epoch 26/100\n",
      "\u001b[1m45/45\u001b[0m \u001b[32m━━━━━━━━━━━━━━━━━━━━\u001b[0m\u001b[37m\u001b[0m \u001b[1m5s\u001b[0m 109ms/step - loss: 4.5068e-04 - val_loss: 3.9198e-04\n",
      "Epoch 27/100\n",
      "\u001b[1m45/45\u001b[0m \u001b[32m━━━━━━━━━━━━━━━━━━━━\u001b[0m\u001b[37m\u001b[0m \u001b[1m5s\u001b[0m 103ms/step - loss: 4.7675e-04 - val_loss: 4.6271e-04\n",
      "Epoch 28/100\n",
      "\u001b[1m45/45\u001b[0m \u001b[32m━━━━━━━━━━━━━━━━━━━━\u001b[0m\u001b[37m\u001b[0m \u001b[1m5s\u001b[0m 106ms/step - loss: 4.6097e-04 - val_loss: 4.1448e-04\n",
      "Epoch 29/100\n",
      "\u001b[1m45/45\u001b[0m \u001b[32m━━━━━━━━━━━━━━━━━━━━\u001b[0m\u001b[37m\u001b[0m \u001b[1m5s\u001b[0m 101ms/step - loss: 4.3070e-04 - val_loss: 4.4300e-04\n",
      "Epoch 30/100\n",
      "\u001b[1m45/45\u001b[0m \u001b[32m━━━━━━━━━━━━━━━━━━━━\u001b[0m\u001b[37m\u001b[0m \u001b[1m5s\u001b[0m 111ms/step - loss: 4.8374e-04 - val_loss: 6.7987e-04\n",
      "Epoch 31/100\n",
      "\u001b[1m45/45\u001b[0m \u001b[32m━━━━━━━━━━━━━━━━━━━━\u001b[0m\u001b[37m\u001b[0m \u001b[1m4s\u001b[0m 93ms/step - loss: 5.4193e-04 - val_loss: 5.4985e-04\n",
      "Epoch 32/100\n",
      "\u001b[1m45/45\u001b[0m \u001b[32m━━━━━━━━━━━━━━━━━━━━\u001b[0m\u001b[37m\u001b[0m \u001b[1m4s\u001b[0m 96ms/step - loss: 4.9561e-04 - val_loss: 4.6738e-04\n",
      "Epoch 33/100\n",
      "\u001b[1m45/45\u001b[0m \u001b[32m━━━━━━━━━━━━━━━━━━━━\u001b[0m\u001b[37m\u001b[0m \u001b[1m4s\u001b[0m 96ms/step - loss: 4.3252e-04 - val_loss: 4.1212e-04\n",
      "Epoch 34/100\n",
      "\u001b[1m45/45\u001b[0m \u001b[32m━━━━━━━━━━━━━━━━━━━━\u001b[0m\u001b[37m\u001b[0m \u001b[1m5s\u001b[0m 120ms/step - loss: 4.0454e-04 - val_loss: 4.2893e-04\n",
      "Epoch 35/100\n",
      "\u001b[1m45/45\u001b[0m \u001b[32m━━━━━━━━━━━━━━━━━━━━\u001b[0m\u001b[37m\u001b[0m \u001b[1m6s\u001b[0m 131ms/step - loss: 4.0573e-04 - val_loss: 3.4447e-04\n",
      "Epoch 36/100\n",
      "\u001b[1m45/45\u001b[0m \u001b[32m━━━━━━━━━━━━━━━━━━━━\u001b[0m\u001b[37m\u001b[0m \u001b[1m5s\u001b[0m 116ms/step - loss: 3.5978e-04 - val_loss: 2.8682e-04\n",
      "Epoch 37/100\n",
      "\u001b[1m45/45\u001b[0m \u001b[32m━━━━━━━━━━━━━━━━━━━━\u001b[0m\u001b[37m\u001b[0m \u001b[1m6s\u001b[0m 123ms/step - loss: 3.2872e-04 - val_loss: 2.9393e-04\n",
      "Epoch 38/100\n",
      "\u001b[1m45/45\u001b[0m \u001b[32m━━━━━━━━━━━━━━━━━━━━\u001b[0m\u001b[37m\u001b[0m \u001b[1m5s\u001b[0m 107ms/step - loss: 3.3294e-04 - val_loss: 2.8884e-04\n",
      "Epoch 39/100\n",
      "\u001b[1m45/45\u001b[0m \u001b[32m━━━━━━━━━━━━━━━━━━━━\u001b[0m\u001b[37m\u001b[0m \u001b[1m5s\u001b[0m 101ms/step - loss: 3.7079e-04 - val_loss: 2.6035e-04\n",
      "Epoch 40/100\n",
      "\u001b[1m45/45\u001b[0m \u001b[32m━━━━━━━━━━━━━━━━━━━━\u001b[0m\u001b[37m\u001b[0m \u001b[1m5s\u001b[0m 106ms/step - loss: 3.4298e-04 - val_loss: 3.1976e-04\n",
      "Epoch 41/100\n",
      "\u001b[1m45/45\u001b[0m \u001b[32m━━━━━━━━━━━━━━━━━━━━\u001b[0m\u001b[37m\u001b[0m \u001b[1m5s\u001b[0m 110ms/step - loss: 3.1968e-04 - val_loss: 2.8314e-04\n",
      "Epoch 42/100\n",
      "\u001b[1m45/45\u001b[0m \u001b[32m━━━━━━━━━━━━━━━━━━━━\u001b[0m\u001b[37m\u001b[0m \u001b[1m5s\u001b[0m 116ms/step - loss: 3.4196e-04 - val_loss: 2.4717e-04\n",
      "Epoch 43/100\n",
      "\u001b[1m45/45\u001b[0m \u001b[32m━━━━━━━━━━━━━━━━━━━━\u001b[0m\u001b[37m\u001b[0m \u001b[1m5s\u001b[0m 109ms/step - loss: 2.7675e-04 - val_loss: 2.3500e-04\n",
      "Epoch 44/100\n",
      "\u001b[1m45/45\u001b[0m \u001b[32m━━━━━━━━━━━━━━━━━━━━\u001b[0m\u001b[37m\u001b[0m \u001b[1m5s\u001b[0m 103ms/step - loss: 3.2677e-04 - val_loss: 2.6155e-04\n",
      "Epoch 45/100\n",
      "\u001b[1m45/45\u001b[0m \u001b[32m━━━━━━━━━━━━━━━━━━━━\u001b[0m\u001b[37m\u001b[0m \u001b[1m5s\u001b[0m 100ms/step - loss: 2.8991e-04 - val_loss: 2.3407e-04\n",
      "Epoch 46/100\n",
      "\u001b[1m45/45\u001b[0m \u001b[32m━━━━━━━━━━━━━━━━━━━━\u001b[0m\u001b[37m\u001b[0m \u001b[1m5s\u001b[0m 102ms/step - loss: 2.7858e-04 - val_loss: 2.9442e-04\n",
      "Epoch 47/100\n",
      "\u001b[1m45/45\u001b[0m \u001b[32m━━━━━━━━━━━━━━━━━━━━\u001b[0m\u001b[37m\u001b[0m \u001b[1m5s\u001b[0m 111ms/step - loss: 3.7936e-04 - val_loss: 2.1657e-04\n",
      "Epoch 48/100\n",
      "\u001b[1m45/45\u001b[0m \u001b[32m━━━━━━━━━━━━━━━━━━━━\u001b[0m\u001b[37m\u001b[0m \u001b[1m5s\u001b[0m 112ms/step - loss: 2.6994e-04 - val_loss: 2.0862e-04\n",
      "Epoch 49/100\n",
      "\u001b[1m45/45\u001b[0m \u001b[32m━━━━━━━━━━━━━━━━━━━━\u001b[0m\u001b[37m\u001b[0m \u001b[1m5s\u001b[0m 103ms/step - loss: 2.4536e-04 - val_loss: 2.0394e-04\n",
      "Epoch 50/100\n",
      "\u001b[1m45/45\u001b[0m \u001b[32m━━━━━━━━━━━━━━━━━━━━\u001b[0m\u001b[37m\u001b[0m \u001b[1m4s\u001b[0m 99ms/step - loss: 2.4331e-04 - val_loss: 4.5066e-04\n",
      "Epoch 51/100\n",
      "\u001b[1m45/45\u001b[0m \u001b[32m━━━━━━━━━━━━━━━━━━━━\u001b[0m\u001b[37m\u001b[0m \u001b[1m5s\u001b[0m 104ms/step - loss: 3.6175e-04 - val_loss: 2.2222e-04\n",
      "Epoch 52/100\n",
      "\u001b[1m45/45\u001b[0m \u001b[32m━━━━━━━━━━━━━━━━━━━━\u001b[0m\u001b[37m\u001b[0m \u001b[1m5s\u001b[0m 106ms/step - loss: 2.5628e-04 - val_loss: 2.0533e-04\n",
      "Epoch 53/100\n",
      "\u001b[1m45/45\u001b[0m \u001b[32m━━━━━━━━━━━━━━━━━━━━\u001b[0m\u001b[37m\u001b[0m \u001b[1m6s\u001b[0m 126ms/step - loss: 2.6857e-04 - val_loss: 2.4534e-04\n",
      "Epoch 54/100\n",
      "\u001b[1m45/45\u001b[0m \u001b[32m━━━━━━━━━━━━━━━━━━━━\u001b[0m\u001b[37m\u001b[0m \u001b[1m5s\u001b[0m 107ms/step - loss: 2.7095e-04 - val_loss: 3.3498e-04\n",
      "Epoch 55/100\n",
      "\u001b[1m45/45\u001b[0m \u001b[32m━━━━━━━━━━━━━━━━━━━━\u001b[0m\u001b[37m\u001b[0m \u001b[1m6s\u001b[0m 131ms/step - loss: 2.5266e-04 - val_loss: 1.8645e-04\n",
      "Epoch 56/100\n",
      "\u001b[1m45/45\u001b[0m \u001b[32m━━━━━━━━━━━━━━━━━━━━\u001b[0m\u001b[37m\u001b[0m \u001b[1m5s\u001b[0m 120ms/step - loss: 2.3160e-04 - val_loss: 1.8574e-04\n",
      "Epoch 57/100\n",
      "\u001b[1m45/45\u001b[0m \u001b[32m━━━━━━━━━━━━━━━━━━━━\u001b[0m\u001b[37m\u001b[0m \u001b[1m6s\u001b[0m 125ms/step - loss: 2.2112e-04 - val_loss: 2.0753e-04\n",
      "Epoch 58/100\n",
      "\u001b[1m45/45\u001b[0m \u001b[32m━━━━━━━━━━━━━━━━━━━━\u001b[0m\u001b[37m\u001b[0m \u001b[1m5s\u001b[0m 116ms/step - loss: 2.3709e-04 - val_loss: 1.8916e-04\n",
      "Epoch 59/100\n",
      "\u001b[1m45/45\u001b[0m \u001b[32m━━━━━━━━━━━━━━━━━━━━\u001b[0m\u001b[37m\u001b[0m \u001b[1m5s\u001b[0m 116ms/step - loss: 2.0182e-04 - val_loss: 1.7213e-04\n",
      "Epoch 60/100\n",
      "\u001b[1m45/45\u001b[0m \u001b[32m━━━━━━━━━━━━━━━━━━━━\u001b[0m\u001b[37m\u001b[0m \u001b[1m6s\u001b[0m 127ms/step - loss: 1.9559e-04 - val_loss: 1.6443e-04\n",
      "Epoch 61/100\n",
      "\u001b[1m45/45\u001b[0m \u001b[32m━━━━━━━━━━━━━━━━━━━━\u001b[0m\u001b[37m\u001b[0m \u001b[1m5s\u001b[0m 100ms/step - loss: 2.0939e-04 - val_loss: 2.7015e-04\n",
      "Epoch 62/100\n",
      "\u001b[1m45/45\u001b[0m \u001b[32m━━━━━━━━━━━━━━━━━━━━\u001b[0m\u001b[37m\u001b[0m \u001b[1m4s\u001b[0m 96ms/step - loss: 3.2530e-04 - val_loss: 1.5901e-04\n",
      "Epoch 63/100\n",
      "\u001b[1m45/45\u001b[0m \u001b[32m━━━━━━━━━━━━━━━━━━━━\u001b[0m\u001b[37m\u001b[0m \u001b[1m4s\u001b[0m 96ms/step - loss: 2.3461e-04 - val_loss: 1.5781e-04\n",
      "Epoch 64/100\n",
      "\u001b[1m45/45\u001b[0m \u001b[32m━━━━━━━━━━━━━━━━━━━━\u001b[0m\u001b[37m\u001b[0m \u001b[1m4s\u001b[0m 96ms/step - loss: 2.0902e-04 - val_loss: 2.2115e-04\n",
      "Epoch 65/100\n",
      "\u001b[1m45/45\u001b[0m \u001b[32m━━━━━━━━━━━━━━━━━━━━\u001b[0m\u001b[37m\u001b[0m \u001b[1m5s\u001b[0m 105ms/step - loss: 2.2829e-04 - val_loss: 1.5904e-04\n",
      "Epoch 66/100\n",
      "\u001b[1m45/45\u001b[0m \u001b[32m━━━━━━━━━━━━━━━━━━━━\u001b[0m\u001b[37m\u001b[0m \u001b[1m5s\u001b[0m 104ms/step - loss: 2.2632e-04 - val_loss: 1.9264e-04\n",
      "Epoch 67/100\n",
      "\u001b[1m45/45\u001b[0m \u001b[32m━━━━━━━━━━━━━━━━━━━━\u001b[0m\u001b[37m\u001b[0m \u001b[1m4s\u001b[0m 100ms/step - loss: 1.9149e-04 - val_loss: 1.5254e-04\n",
      "Epoch 68/100\n",
      "\u001b[1m45/45\u001b[0m \u001b[32m━━━━━━━━━━━━━━━━━━━━\u001b[0m\u001b[37m\u001b[0m \u001b[1m4s\u001b[0m 98ms/step - loss: 1.8329e-04 - val_loss: 2.0501e-04\n",
      "Epoch 69/100\n",
      "\u001b[1m45/45\u001b[0m \u001b[32m━━━━━━━━━━━━━━━━━━━━\u001b[0m\u001b[37m\u001b[0m \u001b[1m4s\u001b[0m 97ms/step - loss: 2.1350e-04 - val_loss: 2.3069e-04\n",
      "Epoch 70/100\n",
      "\u001b[1m45/45\u001b[0m \u001b[32m━━━━━━━━━━━━━━━━━━━━\u001b[0m\u001b[37m\u001b[0m \u001b[1m5s\u001b[0m 101ms/step - loss: 2.2160e-04 - val_loss: 5.5086e-04\n",
      "Epoch 71/100\n",
      "\u001b[1m45/45\u001b[0m \u001b[32m━━━━━━━━━━━━━━━━━━━━\u001b[0m\u001b[37m\u001b[0m \u001b[1m6s\u001b[0m 124ms/step - loss: 3.3077e-04 - val_loss: 1.5395e-04\n",
      "Epoch 72/100\n",
      "\u001b[1m45/45\u001b[0m \u001b[32m━━━━━━━━━━━━━━━━━━━━\u001b[0m\u001b[37m\u001b[0m \u001b[1m6s\u001b[0m 133ms/step - loss: 2.1081e-04 - val_loss: 1.4418e-04\n",
      "Epoch 73/100\n",
      "\u001b[1m45/45\u001b[0m \u001b[32m━━━━━━━━━━━━━━━━━━━━\u001b[0m\u001b[37m\u001b[0m \u001b[1m5s\u001b[0m 116ms/step - loss: 2.4689e-04 - val_loss: 1.5232e-04\n",
      "Epoch 74/100\n",
      "\u001b[1m45/45\u001b[0m \u001b[32m━━━━━━━━━━━━━━━━━━━━\u001b[0m\u001b[37m\u001b[0m \u001b[1m6s\u001b[0m 132ms/step - loss: 1.9627e-04 - val_loss: 1.5379e-04\n",
      "Epoch 75/100\n",
      "\u001b[1m45/45\u001b[0m \u001b[32m━━━━━━━━━━━━━━━━━━━━\u001b[0m\u001b[37m\u001b[0m \u001b[1m5s\u001b[0m 107ms/step - loss: 1.7915e-04 - val_loss: 1.5775e-04\n",
      "Epoch 76/100\n",
      "\u001b[1m45/45\u001b[0m \u001b[32m━━━━━━━━━━━━━━━━━━━━\u001b[0m\u001b[37m\u001b[0m \u001b[1m5s\u001b[0m 103ms/step - loss: 1.8962e-04 - val_loss: 1.5156e-04\n",
      "Epoch 77/100\n",
      "\u001b[1m45/45\u001b[0m \u001b[32m━━━━━━━━━━━━━━━━━━━━\u001b[0m\u001b[37m\u001b[0m \u001b[1m5s\u001b[0m 115ms/step - loss: 1.8230e-04 - val_loss: 1.3889e-04\n",
      "Epoch 78/100\n",
      "\u001b[1m45/45\u001b[0m \u001b[32m━━━━━━━━━━━━━━━━━━━━\u001b[0m\u001b[37m\u001b[0m \u001b[1m5s\u001b[0m 116ms/step - loss: 1.6932e-04 - val_loss: 1.4190e-04\n",
      "Epoch 79/100\n",
      "\u001b[1m45/45\u001b[0m \u001b[32m━━━━━━━━━━━━━━━━━━━━\u001b[0m\u001b[37m\u001b[0m \u001b[1m5s\u001b[0m 107ms/step - loss: 1.8745e-04 - val_loss: 1.8326e-04\n",
      "Epoch 80/100\n",
      "\u001b[1m45/45\u001b[0m \u001b[32m━━━━━━━━━━━━━━━━━━━━\u001b[0m\u001b[37m\u001b[0m \u001b[1m4s\u001b[0m 96ms/step - loss: 2.2832e-04 - val_loss: 1.7386e-04\n",
      "Epoch 81/100\n",
      "\u001b[1m45/45\u001b[0m \u001b[32m━━━━━━━━━━━━━━━━━━━━\u001b[0m\u001b[37m\u001b[0m \u001b[1m5s\u001b[0m 104ms/step - loss: 2.0848e-04 - val_loss: 1.3777e-04\n",
      "Epoch 82/100\n",
      "\u001b[1m45/45\u001b[0m \u001b[32m━━━━━━━━━━━━━━━━━━━━\u001b[0m\u001b[37m\u001b[0m \u001b[1m4s\u001b[0m 95ms/step - loss: 1.7833e-04 - val_loss: 1.3992e-04\n",
      "Epoch 83/100\n",
      "\u001b[1m45/45\u001b[0m \u001b[32m━━━━━━━━━━━━━━━━━━━━\u001b[0m\u001b[37m\u001b[0m \u001b[1m4s\u001b[0m 99ms/step - loss: 1.7037e-04 - val_loss: 1.8858e-04\n",
      "Epoch 84/100\n",
      "\u001b[1m45/45\u001b[0m \u001b[32m━━━━━━━━━━━━━━━━━━━━\u001b[0m\u001b[37m\u001b[0m \u001b[1m5s\u001b[0m 116ms/step - loss: 1.9256e-04 - val_loss: 1.4235e-04\n",
      "Epoch 85/100\n",
      "\u001b[1m45/45\u001b[0m \u001b[32m━━━━━━━━━━━━━━━━━━━━\u001b[0m\u001b[37m\u001b[0m \u001b[1m5s\u001b[0m 101ms/step - loss: 1.6708e-04 - val_loss: 1.4060e-04\n",
      "Epoch 86/100\n",
      "\u001b[1m45/45\u001b[0m \u001b[32m━━━━━━━━━━━━━━━━━━━━\u001b[0m\u001b[37m\u001b[0m \u001b[1m4s\u001b[0m 96ms/step - loss: 1.7362e-04 - val_loss: 2.2321e-04\n",
      "Epoch 87/100\n",
      "\u001b[1m45/45\u001b[0m \u001b[32m━━━━━━━━━━━━━━━━━━━━\u001b[0m\u001b[37m\u001b[0m \u001b[1m5s\u001b[0m 101ms/step - loss: 2.2240e-04 - val_loss: 1.7529e-04\n",
      "Epoch 88/100\n",
      "\u001b[1m45/45\u001b[0m \u001b[32m━━━━━━━━━━━━━━━━━━━━\u001b[0m\u001b[37m\u001b[0m \u001b[1m5s\u001b[0m 112ms/step - loss: 2.0109e-04 - val_loss: 1.4613e-04\n",
      "Epoch 89/100\n",
      "\u001b[1m45/45\u001b[0m \u001b[32m━━━━━━━━━━━━━━━━━━━━\u001b[0m\u001b[37m\u001b[0m \u001b[1m5s\u001b[0m 105ms/step - loss: 1.8606e-04 - val_loss: 2.0317e-04\n",
      "Epoch 90/100\n",
      "\u001b[1m45/45\u001b[0m \u001b[32m━━━━━━━━━━━━━━━━━━━━\u001b[0m\u001b[37m\u001b[0m \u001b[1m5s\u001b[0m 110ms/step - loss: 1.6737e-04 - val_loss: 1.4211e-04\n",
      "Epoch 91/100\n",
      "\u001b[1m45/45\u001b[0m \u001b[32m━━━━━━━━━━━━━━━━━━━━\u001b[0m\u001b[37m\u001b[0m \u001b[1m4s\u001b[0m 96ms/step - loss: 1.7681e-04 - val_loss: 1.5210e-04\n",
      "Epoch 92/100\n",
      "\u001b[1m45/45\u001b[0m \u001b[32m━━━━━━━━━━━━━━━━━━━━\u001b[0m\u001b[37m\u001b[0m \u001b[1m4s\u001b[0m 97ms/step - loss: 1.7387e-04 - val_loss: 1.3968e-04\n",
      "Epoch 93/100\n",
      "\u001b[1m45/45\u001b[0m \u001b[32m━━━━━━━━━━━━━━━━━━━━\u001b[0m\u001b[37m\u001b[0m \u001b[1m4s\u001b[0m 99ms/step - loss: 1.8163e-04 - val_loss: 1.6226e-04\n",
      "Epoch 94/100\n",
      "\u001b[1m45/45\u001b[0m \u001b[32m━━━━━━━━━━━━━━━━━━━━\u001b[0m\u001b[37m\u001b[0m \u001b[1m5s\u001b[0m 100ms/step - loss: 1.9356e-04 - val_loss: 1.4427e-04\n",
      "Epoch 95/100\n",
      "\u001b[1m45/45\u001b[0m \u001b[32m━━━━━━━━━━━━━━━━━━━━\u001b[0m\u001b[37m\u001b[0m \u001b[1m5s\u001b[0m 102ms/step - loss: 2.2835e-04 - val_loss: 1.6425e-04\n",
      "Epoch 96/100\n",
      "\u001b[1m45/45\u001b[0m \u001b[32m━━━━━━━━━━━━━━━━━━━━\u001b[0m\u001b[37m\u001b[0m \u001b[1m5s\u001b[0m 104ms/step - loss: 1.9891e-04 - val_loss: 1.3369e-04\n",
      "Epoch 97/100\n",
      "\u001b[1m45/45\u001b[0m \u001b[32m━━━━━━━━━━━━━━━━━━━━\u001b[0m\u001b[37m\u001b[0m \u001b[1m5s\u001b[0m 111ms/step - loss: 1.7183e-04 - val_loss: 1.3426e-04\n",
      "Epoch 98/100\n",
      "\u001b[1m45/45\u001b[0m \u001b[32m━━━━━━━━━━━━━━━━━━━━\u001b[0m\u001b[37m\u001b[0m \u001b[1m5s\u001b[0m 110ms/step - loss: 1.7582e-04 - val_loss: 1.3533e-04\n",
      "Epoch 99/100\n",
      "\u001b[1m45/45\u001b[0m \u001b[32m━━━━━━━━━━━━━━━━━━━━\u001b[0m\u001b[37m\u001b[0m \u001b[1m5s\u001b[0m 109ms/step - loss: 2.0192e-04 - val_loss: 2.5362e-04\n",
      "Epoch 100/100\n",
      "\u001b[1m45/45\u001b[0m \u001b[32m━━━━━━━━━━━━━━━━━━━━\u001b[0m\u001b[37m\u001b[0m \u001b[1m5s\u001b[0m 111ms/step - loss: 2.2540e-04 - val_loss: 1.3370e-04\n"
     ]
    },
    {
     "data": {
      "text/plain": [
       "<keras.src.callbacks.history.History at 0x23d99b32d90>"
      ]
     },
     "execution_count": 121,
     "metadata": {},
     "output_type": "execute_result"
    }
   ],
   "source": [
    "model.fit(X_train, y_train, validation_data=(x_test, y_test),epochs=100,batch_size=64,verbose=1)"
   ]
  },
  {
   "cell_type": "code",
   "execution_count": 122,
   "id": "783bfa73-9f37-46c4-801a-ea6b5253abb5",
   "metadata": {},
   "outputs": [],
   "source": [
    "import tensorflow as tf"
   ]
  },
  {
   "cell_type": "code",
   "execution_count": 123,
   "id": "e9f4dbe5-dfb8-4dcb-911b-667d5bbb2083",
   "metadata": {},
   "outputs": [
    {
     "data": {
      "text/plain": [
       "'2.19.0'"
      ]
     },
     "execution_count": 123,
     "metadata": {},
     "output_type": "execute_result"
    }
   ],
   "source": [
    "tf.__version__"
   ]
  },
  {
   "cell_type": "code",
   "execution_count": 124,
   "id": "3ddd1a3f-b3d5-4d98-8aca-e855cf5915b7",
   "metadata": {},
   "outputs": [
    {
     "name": "stdout",
     "output_type": "stream",
     "text": [
      "\u001b[1m89/89\u001b[0m \u001b[32m━━━━━━━━━━━━━━━━━━━━\u001b[0m\u001b[37m\u001b[0m \u001b[1m3s\u001b[0m 26ms/step\n",
      "\u001b[1m47/47\u001b[0m \u001b[32m━━━━━━━━━━━━━━━━━━━━\u001b[0m\u001b[37m\u001b[0m \u001b[1m1s\u001b[0m 21ms/step\n"
     ]
    }
   ],
   "source": [
    "### the prediction and check performance metrices\n",
    "train_predict=model.predict(X_train)\n",
    "test_predict= model.predict(x_test)\n"
   ]
  },
  {
   "cell_type": "code",
   "execution_count": 125,
   "id": "e3fb541f-e95d-473a-ba7f-9b472a49c105",
   "metadata": {},
   "outputs": [],
   "source": [
    "#treansform back to original form\n",
    "train_predict=scaler.inverse_transform(train_predict)\n",
    "test_predict=scaler.inverse_transform(test_predict)"
   ]
  },
  {
   "cell_type": "code",
   "execution_count": 126,
   "id": "dd8875e2-a6ad-4a1a-92f6-010d40241a94",
   "metadata": {},
   "outputs": [
    {
     "data": {
      "text/plain": [
       "25.328788116822658"
      ]
     },
     "execution_count": 126,
     "metadata": {},
     "output_type": "execute_result"
    }
   ],
   "source": [
    "#calculate RMSE performance metrics \n",
    "import math\n",
    "from sklearn.metrics import mean_squared_error\n",
    "math.sqrt(mean_squared_error(y_train,train_predict))"
   ]
  },
  {
   "cell_type": "code",
   "execution_count": 127,
   "id": "39d94817-ac2d-4d7c-802a-00008ef6d2be",
   "metadata": {},
   "outputs": [
    {
     "data": {
      "text/plain": [
       "21.497080551928104"
      ]
     },
     "execution_count": 127,
     "metadata": {},
     "output_type": "execute_result"
    }
   ],
   "source": [
    "#test Data RMSE\n",
    "math.sqrt(mean_squared_error(y_test,test_predict))"
   ]
  },
  {
   "cell_type": "code",
   "execution_count": 128,
   "id": "fdd11024-6670-480c-8459-168b0b00c113",
   "metadata": {},
   "outputs": [
    {
     "data": {
      "image/png": "[encoded data removed]",
      "text/plain": [
       "<Figure size 640x480 with 1 Axes>"
      ]
     },
     "metadata": {},
     "output_type": "display_data"
    }
   ],
   "source": [
    "### Plotting \n",
    "# shift train predictions for plotting\n",
    "look_back=100\n",
    "trainPredictPlot = numpy.empty_like(df1)\n",
    "trainPredictPlot[:, :] = np.nan\n",
    "trainPredictPlot[look_back:len(train_predict)+look_back, :] = train_predict\n",
    "# shift test predictions for plotting\n",
    "testPredictPlot = numpy.empty_like(df1)\n",
    "testPredictPlot[:, :] = numpy.nan\n",
    "testPredictPlot[len(train_predict)+(look_back*2)+1:len(df1)-1, :] = test_predict\n",
    "# plot baseline and predictions\n",
    "plt.plot(scaler.inverse_transform(df1))\n",
    "plt.plot(trainPredictPlot)\n",
    "plt.plot(testPredictPlot)\n",
    "plt.show()"
   ]
  },
  {
   "cell_type": "code",
   "execution_count": 129,
   "id": "287ca6a2-6d5b-412f-b004-7fd170f0c236",
   "metadata": {},
   "outputs": [
    {
     "data": {
      "text/plain": [
       "1580"
      ]
     },
     "execution_count": 129,
     "metadata": {},
     "output_type": "execute_result"
    }
   ],
   "source": [
    "len(test_data)"
   ]
  },
  {
   "cell_type": "code",
   "execution_count": 130,
   "id": "40f5590a-22e9-4666-8b6c-4b13b855d576",
   "metadata": {},
   "outputs": [
    {
     "data": {
      "text/plain": [
       "(1, 100)"
      ]
     },
     "execution_count": 130,
     "metadata": {},
     "output_type": "execute_result"
    }
   ],
   "source": [
    "x_input=test_data[1480:].reshape(1,-1)\n",
    "x_input.shape"
   ]
  },
  {
   "cell_type": "code",
   "execution_count": 131,
   "id": "56326325-77a4-478e-a505-7ee4d5cfbc42",
   "metadata": {},
   "outputs": [],
   "source": [
    "temp_input=list(x_input)\n",
    "temp_input=temp_input[0].tolist()"
   ]
  },
  {
   "cell_type": "code",
   "execution_count": 132,
   "id": "61806b6c-6da9-4c61-831b-2401e39942f7",
   "metadata": {},
   "outputs": [
    {
     "data": {
      "text/plain": [
       "[0.44320297951582865,\n",
       " 0.447341195944548,\n",
       " 0.43202979515828677,\n",
       " 0.40802813987171527,\n",
       " 0.3974756879784813,\n",
       " 0.4163045727291538,\n",
       " 0.41733912683633356,\n",
       " 0.415270018621974,\n",
       " 0.4132009104076143,\n",
       " 0.42292571901510445,\n",
       " 0.4142354645147941,\n",
       " 0.4107179805503828,\n",
       " 0.4177529484792054,\n",
       " 0.43223670597972275,\n",
       " 0.45603145044485827,\n",
       " 0.46348024001655286,\n",
       " 0.45520380715911446,\n",
       " 0.4504448582660874,\n",
       " 0.44796192840885585,\n",
       " 0.4398924063728533,\n",
       " 0.4380302089799296,\n",
       " 0.44982412580177944,\n",
       " 0.45520380715911446,\n",
       " 0.45520380715911446,\n",
       " 0.45520380715911446,\n",
       " 0.45520380715911446,\n",
       " 0.45520380715911446,\n",
       " 0.45520380715911446,\n",
       " 0.45520380715911446,\n",
       " 0.45520380715911446,\n",
       " 0.45520380715911446,\n",
       " 0.45520380715911446,\n",
       " 0.45520380715911446,\n",
       " 0.45520380715911446,\n",
       " 0.45520380715911446,\n",
       " 0.45520380715911446,\n",
       " 0.45520380715911446,\n",
       " 0.45520380715911446,\n",
       " 0.45520380715911446,\n",
       " 0.45520380715911446,\n",
       " 0.45520380715911446,\n",
       " 0.45520380715911446,\n",
       " 0.45520380715911446,\n",
       " 0.45520380715911446,\n",
       " 0.45520380715911446,\n",
       " 0.45520380715911446,\n",
       " 0.45520380715911446,\n",
       " 0.45520380715911446,\n",
       " 0.45520380715911446,\n",
       " 0.45520380715911446,\n",
       " 0.45520380715911446,\n",
       " 0.45520380715911446,\n",
       " 0.45520380715911446,\n",
       " 0.45520380715911446,\n",
       " 0.45520380715911446,\n",
       " 0.45520380715911446,\n",
       " 0.45520380715911446,\n",
       " 0.45520380715911446,\n",
       " 0.45520380715911446,\n",
       " 0.45520380715911446,\n",
       " 0.45520380715911446,\n",
       " 0.45520380715911446,\n",
       " 0.45520380715911446,\n",
       " 0.45520380715911446,\n",
       " 0.45520380715911446,\n",
       " 0.45520380715911446,\n",
       " 0.45520380715911446,\n",
       " 0.45520380715911446,\n",
       " 0.45520380715911446,\n",
       " 0.45520380715911446,\n",
       " 0.45520380715911446,\n",
       " 0.45520380715911446,\n",
       " 0.45520380715911446,\n",
       " 0.45520380715911446,\n",
       " 0.45520380715911446,\n",
       " 0.45520380715911446,\n",
       " 0.45520380715911446,\n",
       " 0.45520380715911446,\n",
       " 0.45520380715911446,\n",
       " 0.45520380715911446,\n",
       " 0.45520380715911446,\n",
       " 0.45520380715911446,\n",
       " 0.45520380715911446,\n",
       " 0.45520380715911446,\n",
       " 0.45520380715911446,\n",
       " 0.45520380715911446,\n",
       " 0.45520380715911446,\n",
       " 0.45520380715911446,\n",
       " 0.45520380715911446,\n",
       " 0.45520380715911446,\n",
       " 0.45520380715911446,\n",
       " 0.45520380715911446,\n",
       " 0.45520380715911446,\n",
       " 0.45520380715911446,\n",
       " 0.45520380715911446,\n",
       " 0.45520380715911446,\n",
       " 0.45520380715911446,\n",
       " 0.45520380715911446,\n",
       " 0.45520380715911446,\n",
       " 0.45520380715911446]"
      ]
     },
     "execution_count": 132,
     "metadata": {},
     "output_type": "execute_result"
    }
   ],
   "source": [
    "temp_input"
   ]
  },
  {
   "cell_type": "code",
   "execution_count": 133,
   "id": "7b36728a-39e5-4aeb-a7d3-0a96e3c9c6c4",
   "metadata": {},
   "outputs": [
    {
     "name": "stdout",
     "output_type": "stream",
     "text": [
      "[0.45432293]\n",
      "101\n",
      "1 day input [0.4473412  0.4320298  0.40802814 0.39747569 0.41630457 0.41733913\n",
      " 0.41527002 0.41320091 0.42292572 0.41423546 0.41071798 0.41775295\n",
      " 0.43223671 0.45603145 0.46348024 0.45520381 0.45044486 0.44796193\n",
      " 0.43989241 0.43803021 0.44982413 0.45520381 0.45520381 0.45520381\n",
      " 0.45520381 0.45520381 0.45520381 0.45520381 0.45520381 0.45520381\n",
      " 0.45520381 0.45520381 0.45520381 0.45520381 0.45520381 0.45520381\n",
      " 0.45520381 0.45520381 0.45520381 0.45520381 0.45520381 0.45520381\n",
      " 0.45520381 0.45520381 0.45520381 0.45520381 0.45520381 0.45520381\n",
      " 0.45520381 0.45520381 0.45520381 0.45520381 0.45520381 0.45520381\n",
      " 0.45520381 0.45520381 0.45520381 0.45520381 0.45520381 0.45520381\n",
      " 0.45520381 0.45520381 0.45520381 0.45520381 0.45520381 0.45520381\n",
      " 0.45520381 0.45520381 0.45520381 0.45520381 0.45520381 0.45520381\n",
      " 0.45520381 0.45520381 0.45520381 0.45520381 0.45520381 0.45520381\n",
      " 0.45520381 0.45520381 0.45520381 0.45520381 0.45520381 0.45520381\n",
      " 0.45520381 0.45520381 0.45520381 0.45520381 0.45520381 0.45520381\n",
      " 0.45520381 0.45520381 0.45520381 0.45520381 0.45520381 0.45520381\n",
      " 0.45520381 0.45520381 0.45520381 0.45432293]\n",
      "1 day output [[0.45349047]]\n",
      "2 day input [0.4320298  0.40802814 0.39747569 0.41630457 0.41733913 0.41527002\n",
      " 0.41320091 0.42292572 0.41423546 0.41071798 0.41775295 0.43223671\n",
      " 0.45603145 0.46348024 0.45520381 0.45044486 0.44796193 0.43989241\n",
      " 0.43803021 0.44982413 0.45520381 0.45520381 0.45520381 0.45520381\n",
      " 0.45520381 0.45520381 0.45520381 0.45520381 0.45520381 0.45520381\n",
      " 0.45520381 0.45520381 0.45520381 0.45520381 0.45520381 0.45520381\n",
      " 0.45520381 0.45520381 0.45520381 0.45520381 0.45520381 0.45520381\n",
      " 0.45520381 0.45520381 0.45520381 0.45520381 0.45520381 0.45520381\n",
      " 0.45520381 0.45520381 0.45520381 0.45520381 0.45520381 0.45520381\n",
      " 0.45520381 0.45520381 0.45520381 0.45520381 0.45520381 0.45520381\n",
      " 0.45520381 0.45520381 0.45520381 0.45520381 0.45520381 0.45520381\n",
      " 0.45520381 0.45520381 0.45520381 0.45520381 0.45520381 0.45520381\n",
      " 0.45520381 0.45520381 0.45520381 0.45520381 0.45520381 0.45520381\n",
      " 0.45520381 0.45520381 0.45520381 0.45520381 0.45520381 0.45520381\n",
      " 0.45520381 0.45520381 0.45520381 0.45520381 0.45520381 0.45520381\n",
      " 0.45520381 0.45520381 0.45520381 0.45520381 0.45520381 0.45520381\n",
      " 0.45520381 0.45520381 0.45432293 0.45349047]\n",
      "2 day output [[0.4526111]]\n",
      "3 day input [0.40802814 0.39747569 0.41630457 0.41733913 0.41527002 0.41320091\n",
      " 0.42292572 0.41423546 0.41071798 0.41775295 0.43223671 0.45603145\n",
      " 0.46348024 0.45520381 0.45044486 0.44796193 0.43989241 0.43803021\n",
      " 0.44982413 0.45520381 0.45520381 0.45520381 0.45520381 0.45520381\n",
      " 0.45520381 0.45520381 0.45520381 0.45520381 0.45520381 0.45520381\n",
      " 0.45520381 0.45520381 0.45520381 0.45520381 0.45520381 0.45520381\n",
      " 0.45520381 0.45520381 0.45520381 0.45520381 0.45520381 0.45520381\n",
      " 0.45520381 0.45520381 0.45520381 0.45520381 0.45520381 0.45520381\n",
      " 0.45520381 0.45520381 0.45520381 0.45520381 0.45520381 0.45520381\n",
      " 0.45520381 0.45520381 0.45520381 0.45520381 0.45520381 0.45520381\n",
      " 0.45520381 0.45520381 0.45520381 0.45520381 0.45520381 0.45520381\n",
      " 0.45520381 0.45520381 0.45520381 0.45520381 0.45520381 0.45520381\n",
      " 0.45520381 0.45520381 0.45520381 0.45520381 0.45520381 0.45520381\n",
      " 0.45520381 0.45520381 0.45520381 0.45520381 0.45520381 0.45520381\n",
      " 0.45520381 0.45520381 0.45520381 0.45520381 0.45520381 0.45520381\n",
      " 0.45520381 0.45520381 0.45520381 0.45520381 0.45520381 0.45520381\n",
      " 0.45520381 0.45432293 0.45349047 0.45261109]\n",
      "3 day output [[0.45177868]]\n",
      "4 day input [0.39747569 0.41630457 0.41733913 0.41527002 0.41320091 0.42292572\n",
      " 0.41423546 0.41071798 0.41775295 0.43223671 0.45603145 0.46348024\n",
      " 0.45520381 0.45044486 0.44796193 0.43989241 0.43803021 0.44982413\n",
      " 0.45520381 0.45520381 0.45520381 0.45520381 0.45520381 0.45520381\n",
      " 0.45520381 0.45520381 0.45520381 0.45520381 0.45520381 0.45520381\n",
      " 0.45520381 0.45520381 0.45520381 0.45520381 0.45520381 0.45520381\n",
      " 0.45520381 0.45520381 0.45520381 0.45520381 0.45520381 0.45520381\n",
      " 0.45520381 0.45520381 0.45520381 0.45520381 0.45520381 0.45520381\n",
      " 0.45520381 0.45520381 0.45520381 0.45520381 0.45520381 0.45520381\n",
      " 0.45520381 0.45520381 0.45520381 0.45520381 0.45520381 0.45520381\n",
      " 0.45520381 0.45520381 0.45520381 0.45520381 0.45520381 0.45520381\n",
      " 0.45520381 0.45520381 0.45520381 0.45520381 0.45520381 0.45520381\n",
      " 0.45520381 0.45520381 0.45520381 0.45520381 0.45520381 0.45520381\n",
      " 0.45520381 0.45520381 0.45520381 0.45520381 0.45520381 0.45520381\n",
      " 0.45520381 0.45520381 0.45520381 0.45520381 0.45520381 0.45520381\n",
      " 0.45520381 0.45520381 0.45520381 0.45520381 0.45520381 0.45520381\n",
      " 0.45432293 0.45349047 0.45261109 0.45177868]\n",
      "4 day output [[0.4509631]]\n",
      "5 day input [0.41630457 0.41733913 0.41527002 0.41320091 0.42292572 0.41423546\n",
      " 0.41071798 0.41775295 0.43223671 0.45603145 0.46348024 0.45520381\n",
      " 0.45044486 0.44796193 0.43989241 0.43803021 0.44982413 0.45520381\n",
      " 0.45520381 0.45520381 0.45520381 0.45520381 0.45520381 0.45520381\n",
      " 0.45520381 0.45520381 0.45520381 0.45520381 0.45520381 0.45520381\n",
      " 0.45520381 0.45520381 0.45520381 0.45520381 0.45520381 0.45520381\n",
      " 0.45520381 0.45520381 0.45520381 0.45520381 0.45520381 0.45520381\n",
      " 0.45520381 0.45520381 0.45520381 0.45520381 0.45520381 0.45520381\n",
      " 0.45520381 0.45520381 0.45520381 0.45520381 0.45520381 0.45520381\n",
      " 0.45520381 0.45520381 0.45520381 0.45520381 0.45520381 0.45520381\n",
      " 0.45520381 0.45520381 0.45520381 0.45520381 0.45520381 0.45520381\n",
      " 0.45520381 0.45520381 0.45520381 0.45520381 0.45520381 0.45520381\n",
      " 0.45520381 0.45520381 0.45520381 0.45520381 0.45520381 0.45520381\n",
      " 0.45520381 0.45520381 0.45520381 0.45520381 0.45520381 0.45520381\n",
      " 0.45520381 0.45520381 0.45520381 0.45520381 0.45520381 0.45520381\n",
      " 0.45520381 0.45520381 0.45520381 0.45520381 0.45520381 0.45432293\n",
      " 0.45349047 0.45261109 0.45177868 0.45096311]\n",
      "5 day output [[0.45014733]]\n",
      "6 day input [0.41733913 0.41527002 0.41320091 0.42292572 0.41423546 0.41071798\n",
      " 0.41775295 0.43223671 0.45603145 0.46348024 0.45520381 0.45044486\n",
      " 0.44796193 0.43989241 0.43803021 0.44982413 0.45520381 0.45520381\n",
      " 0.45520381 0.45520381 0.45520381 0.45520381 0.45520381 0.45520381\n",
      " 0.45520381 0.45520381 0.45520381 0.45520381 0.45520381 0.45520381\n",
      " 0.45520381 0.45520381 0.45520381 0.45520381 0.45520381 0.45520381\n",
      " 0.45520381 0.45520381 0.45520381 0.45520381 0.45520381 0.45520381\n",
      " 0.45520381 0.45520381 0.45520381 0.45520381 0.45520381 0.45520381\n",
      " 0.45520381 0.45520381 0.45520381 0.45520381 0.45520381 0.45520381\n",
      " 0.45520381 0.45520381 0.45520381 0.45520381 0.45520381 0.45520381\n",
      " 0.45520381 0.45520381 0.45520381 0.45520381 0.45520381 0.45520381\n",
      " 0.45520381 0.45520381 0.45520381 0.45520381 0.45520381 0.45520381\n",
      " 0.45520381 0.45520381 0.45520381 0.45520381 0.45520381 0.45520381\n",
      " 0.45520381 0.45520381 0.45520381 0.45520381 0.45520381 0.45520381\n",
      " 0.45520381 0.45520381 0.45520381 0.45520381 0.45520381 0.45520381\n",
      " 0.45520381 0.45520381 0.45520381 0.45520381 0.45432293 0.45349047\n",
      " 0.45261109 0.45177868 0.45096311 0.45014733]\n",
      "6 day output [[0.44932467]]\n",
      "7 day input [0.41527002 0.41320091 0.42292572 0.41423546 0.41071798 0.41775295\n",
      " 0.43223671 0.45603145 0.46348024 0.45520381 0.45044486 0.44796193\n",
      " 0.43989241 0.43803021 0.44982413 0.45520381 0.45520381 0.45520381\n",
      " 0.45520381 0.45520381 0.45520381 0.45520381 0.45520381 0.45520381\n",
      " 0.45520381 0.45520381 0.45520381 0.45520381 0.45520381 0.45520381\n",
      " 0.45520381 0.45520381 0.45520381 0.45520381 0.45520381 0.45520381\n",
      " 0.45520381 0.45520381 0.45520381 0.45520381 0.45520381 0.45520381\n",
      " 0.45520381 0.45520381 0.45520381 0.45520381 0.45520381 0.45520381\n",
      " 0.45520381 0.45520381 0.45520381 0.45520381 0.45520381 0.45520381\n",
      " 0.45520381 0.45520381 0.45520381 0.45520381 0.45520381 0.45520381\n",
      " 0.45520381 0.45520381 0.45520381 0.45520381 0.45520381 0.45520381\n",
      " 0.45520381 0.45520381 0.45520381 0.45520381 0.45520381 0.45520381\n",
      " 0.45520381 0.45520381 0.45520381 0.45520381 0.45520381 0.45520381\n",
      " 0.45520381 0.45520381 0.45520381 0.45520381 0.45520381 0.45520381\n",
      " 0.45520381 0.45520381 0.45520381 0.45520381 0.45520381 0.45520381\n",
      " 0.45520381 0.45520381 0.45520381 0.45432293 0.45349047 0.45261109\n",
      " 0.45177868 0.45096311 0.45014733 0.44932467]\n",
      "7 day output [[0.4484932]]\n",
      "8 day input [0.41320091 0.42292572 0.41423546 0.41071798 0.41775295 0.43223671\n",
      " 0.45603145 0.46348024 0.45520381 0.45044486 0.44796193 0.43989241\n",
      " 0.43803021 0.44982413 0.45520381 0.45520381 0.45520381 0.45520381\n",
      " 0.45520381 0.45520381 0.45520381 0.45520381 0.45520381 0.45520381\n",
      " 0.45520381 0.45520381 0.45520381 0.45520381 0.45520381 0.45520381\n",
      " 0.45520381 0.45520381 0.45520381 0.45520381 0.45520381 0.45520381\n",
      " 0.45520381 0.45520381 0.45520381 0.45520381 0.45520381 0.45520381\n",
      " 0.45520381 0.45520381 0.45520381 0.45520381 0.45520381 0.45520381\n",
      " 0.45520381 0.45520381 0.45520381 0.45520381 0.45520381 0.45520381\n",
      " 0.45520381 0.45520381 0.45520381 0.45520381 0.45520381 0.45520381\n",
      " 0.45520381 0.45520381 0.45520381 0.45520381 0.45520381 0.45520381\n",
      " 0.45520381 0.45520381 0.45520381 0.45520381 0.45520381 0.45520381\n",
      " 0.45520381 0.45520381 0.45520381 0.45520381 0.45520381 0.45520381\n",
      " 0.45520381 0.45520381 0.45520381 0.45520381 0.45520381 0.45520381\n",
      " 0.45520381 0.45520381 0.45520381 0.45520381 0.45520381 0.45520381\n",
      " 0.45520381 0.45520381 0.45432293 0.45349047 0.45261109 0.45177868\n",
      " 0.45096311 0.45014733 0.44932467 0.44849321]\n",
      "8 day output [[0.44765374]]\n",
      "9 day input [0.42292572 0.41423546 0.41071798 0.41775295 0.43223671 0.45603145\n",
      " 0.46348024 0.45520381 0.45044486 0.44796193 0.43989241 0.43803021\n",
      " 0.44982413 0.45520381 0.45520381 0.45520381 0.45520381 0.45520381\n",
      " 0.45520381 0.45520381 0.45520381 0.45520381 0.45520381 0.45520381\n",
      " 0.45520381 0.45520381 0.45520381 0.45520381 0.45520381 0.45520381\n",
      " 0.45520381 0.45520381 0.45520381 0.45520381 0.45520381 0.45520381\n",
      " 0.45520381 0.45520381 0.45520381 0.45520381 0.45520381 0.45520381\n",
      " 0.45520381 0.45520381 0.45520381 0.45520381 0.45520381 0.45520381\n",
      " 0.45520381 0.45520381 0.45520381 0.45520381 0.45520381 0.45520381\n",
      " 0.45520381 0.45520381 0.45520381 0.45520381 0.45520381 0.45520381\n",
      " 0.45520381 0.45520381 0.45520381 0.45520381 0.45520381 0.45520381\n",
      " 0.45520381 0.45520381 0.45520381 0.45520381 0.45520381 0.45520381\n",
      " 0.45520381 0.45520381 0.45520381 0.45520381 0.45520381 0.45520381\n",
      " 0.45520381 0.45520381 0.45520381 0.45520381 0.45520381 0.45520381\n",
      " 0.45520381 0.45520381 0.45520381 0.45520381 0.45520381 0.45520381\n",
      " 0.45520381 0.45432293 0.45349047 0.45261109 0.45177868 0.45096311\n",
      " 0.45014733 0.44932467 0.44849321 0.44765374]\n",
      "9 day output [[0.44680855]]\n",
      "10 day input [0.41423546 0.41071798 0.41775295 0.43223671 0.45603145 0.46348024\n",
      " 0.45520381 0.45044486 0.44796193 0.43989241 0.43803021 0.44982413\n",
      " 0.45520381 0.45520381 0.45520381 0.45520381 0.45520381 0.45520381\n",
      " 0.45520381 0.45520381 0.45520381 0.45520381 0.45520381 0.45520381\n",
      " 0.45520381 0.45520381 0.45520381 0.45520381 0.45520381 0.45520381\n",
      " 0.45520381 0.45520381 0.45520381 0.45520381 0.45520381 0.45520381\n",
      " 0.45520381 0.45520381 0.45520381 0.45520381 0.45520381 0.45520381\n",
      " 0.45520381 0.45520381 0.45520381 0.45520381 0.45520381 0.45520381\n",
      " 0.45520381 0.45520381 0.45520381 0.45520381 0.45520381 0.45520381\n",
      " 0.45520381 0.45520381 0.45520381 0.45520381 0.45520381 0.45520381\n",
      " 0.45520381 0.45520381 0.45520381 0.45520381 0.45520381 0.45520381\n",
      " 0.45520381 0.45520381 0.45520381 0.45520381 0.45520381 0.45520381\n",
      " 0.45520381 0.45520381 0.45520381 0.45520381 0.45520381 0.45520381\n",
      " 0.45520381 0.45520381 0.45520381 0.45520381 0.45520381 0.45520381\n",
      " 0.45520381 0.45520381 0.45520381 0.45520381 0.45520381 0.45520381\n",
      " 0.45432293 0.45349047 0.45261109 0.45177868 0.45096311 0.45014733\n",
      " 0.44932467 0.44849321 0.44765374 0.44680855]\n",
      "10 day output [[0.44596025]]\n",
      "11 day input [0.41071798 0.41775295 0.43223671 0.45603145 0.46348024 0.45520381\n",
      " 0.45044486 0.44796193 0.43989241 0.43803021 0.44982413 0.45520381\n",
      " 0.45520381 0.45520381 0.45520381 0.45520381 0.45520381 0.45520381\n",
      " 0.45520381 0.45520381 0.45520381 0.45520381 0.45520381 0.45520381\n",
      " 0.45520381 0.45520381 0.45520381 0.45520381 0.45520381 0.45520381\n",
      " 0.45520381 0.45520381 0.45520381 0.45520381 0.45520381 0.45520381\n",
      " 0.45520381 0.45520381 0.45520381 0.45520381 0.45520381 0.45520381\n",
      " 0.45520381 0.45520381 0.45520381 0.45520381 0.45520381 0.45520381\n",
      " 0.45520381 0.45520381 0.45520381 0.45520381 0.45520381 0.45520381\n",
      " 0.45520381 0.45520381 0.45520381 0.45520381 0.45520381 0.45520381\n",
      " 0.45520381 0.45520381 0.45520381 0.45520381 0.45520381 0.45520381\n",
      " 0.45520381 0.45520381 0.45520381 0.45520381 0.45520381 0.45520381\n",
      " 0.45520381 0.45520381 0.45520381 0.45520381 0.45520381 0.45520381\n",
      " 0.45520381 0.45520381 0.45520381 0.45520381 0.45520381 0.45520381\n",
      " 0.45520381 0.45520381 0.45520381 0.45520381 0.45520381 0.45432293\n",
      " 0.45349047 0.45261109 0.45177868 0.45096311 0.45014733 0.44932467\n",
      " 0.44849321 0.44765374 0.44680855 0.44596025]\n",
      "11 day output [[0.4451113]]\n",
      "12 day input [0.41775295 0.43223671 0.45603145 0.46348024 0.45520381 0.45044486\n",
      " 0.44796193 0.43989241 0.43803021 0.44982413 0.45520381 0.45520381\n",
      " 0.45520381 0.45520381 0.45520381 0.45520381 0.45520381 0.45520381\n",
      " 0.45520381 0.45520381 0.45520381 0.45520381 0.45520381 0.45520381\n",
      " 0.45520381 0.45520381 0.45520381 0.45520381 0.45520381 0.45520381\n",
      " 0.45520381 0.45520381 0.45520381 0.45520381 0.45520381 0.45520381\n",
      " 0.45520381 0.45520381 0.45520381 0.45520381 0.45520381 0.45520381\n",
      " 0.45520381 0.45520381 0.45520381 0.45520381 0.45520381 0.45520381\n",
      " 0.45520381 0.45520381 0.45520381 0.45520381 0.45520381 0.45520381\n",
      " 0.45520381 0.45520381 0.45520381 0.45520381 0.45520381 0.45520381\n",
      " 0.45520381 0.45520381 0.45520381 0.45520381 0.45520381 0.45520381\n",
      " 0.45520381 0.45520381 0.45520381 0.45520381 0.45520381 0.45520381\n",
      " 0.45520381 0.45520381 0.45520381 0.45520381 0.45520381 0.45520381\n",
      " 0.45520381 0.45520381 0.45520381 0.45520381 0.45520381 0.45520381\n",
      " 0.45520381 0.45520381 0.45520381 0.45520381 0.45432293 0.45349047\n",
      " 0.45261109 0.45177868 0.45096311 0.45014733 0.44932467 0.44849321\n",
      " 0.44765374 0.44680855 0.44596025 0.4451113 ]\n",
      "12 day output [[0.44426402]]\n",
      "13 day input [0.43223671 0.45603145 0.46348024 0.45520381 0.45044486 0.44796193\n",
      " 0.43989241 0.43803021 0.44982413 0.45520381 0.45520381 0.45520381\n",
      " 0.45520381 0.45520381 0.45520381 0.45520381 0.45520381 0.45520381\n",
      " 0.45520381 0.45520381 0.45520381 0.45520381 0.45520381 0.45520381\n",
      " 0.45520381 0.45520381 0.45520381 0.45520381 0.45520381 0.45520381\n",
      " 0.45520381 0.45520381 0.45520381 0.45520381 0.45520381 0.45520381\n",
      " 0.45520381 0.45520381 0.45520381 0.45520381 0.45520381 0.45520381\n",
      " 0.45520381 0.45520381 0.45520381 0.45520381 0.45520381 0.45520381\n",
      " 0.45520381 0.45520381 0.45520381 0.45520381 0.45520381 0.45520381\n",
      " 0.45520381 0.45520381 0.45520381 0.45520381 0.45520381 0.45520381\n",
      " 0.45520381 0.45520381 0.45520381 0.45520381 0.45520381 0.45520381\n",
      " 0.45520381 0.45520381 0.45520381 0.45520381 0.45520381 0.45520381\n",
      " 0.45520381 0.45520381 0.45520381 0.45520381 0.45520381 0.45520381\n",
      " 0.45520381 0.45520381 0.45520381 0.45520381 0.45520381 0.45520381\n",
      " 0.45520381 0.45520381 0.45520381 0.45432293 0.45349047 0.45261109\n",
      " 0.45177868 0.45096311 0.45014733 0.44932467 0.44849321 0.44765374\n",
      " 0.44680855 0.44596025 0.4451113  0.44426402]\n",
      "13 day output [[0.44341978]]\n",
      "14 day input [0.45603145 0.46348024 0.45520381 0.45044486 0.44796193 0.43989241\n",
      " 0.43803021 0.44982413 0.45520381 0.45520381 0.45520381 0.45520381\n",
      " 0.45520381 0.45520381 0.45520381 0.45520381 0.45520381 0.45520381\n",
      " 0.45520381 0.45520381 0.45520381 0.45520381 0.45520381 0.45520381\n",
      " 0.45520381 0.45520381 0.45520381 0.45520381 0.45520381 0.45520381\n",
      " 0.45520381 0.45520381 0.45520381 0.45520381 0.45520381 0.45520381\n",
      " 0.45520381 0.45520381 0.45520381 0.45520381 0.45520381 0.45520381\n",
      " 0.45520381 0.45520381 0.45520381 0.45520381 0.45520381 0.45520381\n",
      " 0.45520381 0.45520381 0.45520381 0.45520381 0.45520381 0.45520381\n",
      " 0.45520381 0.45520381 0.45520381 0.45520381 0.45520381 0.45520381\n",
      " 0.45520381 0.45520381 0.45520381 0.45520381 0.45520381 0.45520381\n",
      " 0.45520381 0.45520381 0.45520381 0.45520381 0.45520381 0.45520381\n",
      " 0.45520381 0.45520381 0.45520381 0.45520381 0.45520381 0.45520381\n",
      " 0.45520381 0.45520381 0.45520381 0.45520381 0.45520381 0.45520381\n",
      " 0.45520381 0.45520381 0.45432293 0.45349047 0.45261109 0.45177868\n",
      " 0.45096311 0.45014733 0.44932467 0.44849321 0.44765374 0.44680855\n",
      " 0.44596025 0.4451113  0.44426402 0.44341978]\n",
      "14 day output [[0.44257978]]\n",
      "15 day input [0.46348024 0.45520381 0.45044486 0.44796193 0.43989241 0.43803021\n",
      " 0.44982413 0.45520381 0.45520381 0.45520381 0.45520381 0.45520381\n",
      " 0.45520381 0.45520381 0.45520381 0.45520381 0.45520381 0.45520381\n",
      " 0.45520381 0.45520381 0.45520381 0.45520381 0.45520381 0.45520381\n",
      " 0.45520381 0.45520381 0.45520381 0.45520381 0.45520381 0.45520381\n",
      " 0.45520381 0.45520381 0.45520381 0.45520381 0.45520381 0.45520381\n",
      " 0.45520381 0.45520381 0.45520381 0.45520381 0.45520381 0.45520381\n",
      " 0.45520381 0.45520381 0.45520381 0.45520381 0.45520381 0.45520381\n",
      " 0.45520381 0.45520381 0.45520381 0.45520381 0.45520381 0.45520381\n",
      " 0.45520381 0.45520381 0.45520381 0.45520381 0.45520381 0.45520381\n",
      " 0.45520381 0.45520381 0.45520381 0.45520381 0.45520381 0.45520381\n",
      " 0.45520381 0.45520381 0.45520381 0.45520381 0.45520381 0.45520381\n",
      " 0.45520381 0.45520381 0.45520381 0.45520381 0.45520381 0.45520381\n",
      " 0.45520381 0.45520381 0.45520381 0.45520381 0.45520381 0.45520381\n",
      " 0.45520381 0.45432293 0.45349047 0.45261109 0.45177868 0.45096311\n",
      " 0.45014733 0.44932467 0.44849321 0.44765374 0.44680855 0.44596025\n",
      " 0.4451113  0.44426402 0.44341978 0.44257978]\n",
      "15 day output [[0.4417446]]\n",
      "16 day input [0.45520381 0.45044486 0.44796193 0.43989241 0.43803021 0.44982413\n",
      " 0.45520381 0.45520381 0.45520381 0.45520381 0.45520381 0.45520381\n",
      " 0.45520381 0.45520381 0.45520381 0.45520381 0.45520381 0.45520381\n",
      " 0.45520381 0.45520381 0.45520381 0.45520381 0.45520381 0.45520381\n",
      " 0.45520381 0.45520381 0.45520381 0.45520381 0.45520381 0.45520381\n",
      " 0.45520381 0.45520381 0.45520381 0.45520381 0.45520381 0.45520381\n",
      " 0.45520381 0.45520381 0.45520381 0.45520381 0.45520381 0.45520381\n",
      " 0.45520381 0.45520381 0.45520381 0.45520381 0.45520381 0.45520381\n",
      " 0.45520381 0.45520381 0.45520381 0.45520381 0.45520381 0.45520381\n",
      " 0.45520381 0.45520381 0.45520381 0.45520381 0.45520381 0.45520381\n",
      " 0.45520381 0.45520381 0.45520381 0.45520381 0.45520381 0.45520381\n",
      " 0.45520381 0.45520381 0.45520381 0.45520381 0.45520381 0.45520381\n",
      " 0.45520381 0.45520381 0.45520381 0.45520381 0.45520381 0.45520381\n",
      " 0.45520381 0.45520381 0.45520381 0.45520381 0.45520381 0.45520381\n",
      " 0.45432293 0.45349047 0.45261109 0.45177868 0.45096311 0.45014733\n",
      " 0.44932467 0.44849321 0.44765374 0.44680855 0.44596025 0.4451113\n",
      " 0.44426402 0.44341978 0.44257978 0.4417446 ]\n",
      "16 day output [[0.4409142]]\n",
      "17 day input [0.45044486 0.44796193 0.43989241 0.43803021 0.44982413 0.45520381\n",
      " 0.45520381 0.45520381 0.45520381 0.45520381 0.45520381 0.45520381\n",
      " 0.45520381 0.45520381 0.45520381 0.45520381 0.45520381 0.45520381\n",
      " 0.45520381 0.45520381 0.45520381 0.45520381 0.45520381 0.45520381\n",
      " 0.45520381 0.45520381 0.45520381 0.45520381 0.45520381 0.45520381\n",
      " 0.45520381 0.45520381 0.45520381 0.45520381 0.45520381 0.45520381\n",
      " 0.45520381 0.45520381 0.45520381 0.45520381 0.45520381 0.45520381\n",
      " 0.45520381 0.45520381 0.45520381 0.45520381 0.45520381 0.45520381\n",
      " 0.45520381 0.45520381 0.45520381 0.45520381 0.45520381 0.45520381\n",
      " 0.45520381 0.45520381 0.45520381 0.45520381 0.45520381 0.45520381\n",
      " 0.45520381 0.45520381 0.45520381 0.45520381 0.45520381 0.45520381\n",
      " 0.45520381 0.45520381 0.45520381 0.45520381 0.45520381 0.45520381\n",
      " 0.45520381 0.45520381 0.45520381 0.45520381 0.45520381 0.45520381\n",
      " 0.45520381 0.45520381 0.45520381 0.45520381 0.45520381 0.45432293\n",
      " 0.45349047 0.45261109 0.45177868 0.45096311 0.45014733 0.44932467\n",
      " 0.44849321 0.44765374 0.44680855 0.44596025 0.4451113  0.44426402\n",
      " 0.44341978 0.44257978 0.4417446  0.44091421]\n",
      "17 day output [[0.44008875]]\n",
      "18 day input [0.44796193 0.43989241 0.43803021 0.44982413 0.45520381 0.45520381\n",
      " 0.45520381 0.45520381 0.45520381 0.45520381 0.45520381 0.45520381\n",
      " 0.45520381 0.45520381 0.45520381 0.45520381 0.45520381 0.45520381\n",
      " 0.45520381 0.45520381 0.45520381 0.45520381 0.45520381 0.45520381\n",
      " 0.45520381 0.45520381 0.45520381 0.45520381 0.45520381 0.45520381\n",
      " 0.45520381 0.45520381 0.45520381 0.45520381 0.45520381 0.45520381\n",
      " 0.45520381 0.45520381 0.45520381 0.45520381 0.45520381 0.45520381\n",
      " 0.45520381 0.45520381 0.45520381 0.45520381 0.45520381 0.45520381\n",
      " 0.45520381 0.45520381 0.45520381 0.45520381 0.45520381 0.45520381\n",
      " 0.45520381 0.45520381 0.45520381 0.45520381 0.45520381 0.45520381\n",
      " 0.45520381 0.45520381 0.45520381 0.45520381 0.45520381 0.45520381\n",
      " 0.45520381 0.45520381 0.45520381 0.45520381 0.45520381 0.45520381\n",
      " 0.45520381 0.45520381 0.45520381 0.45520381 0.45520381 0.45520381\n",
      " 0.45520381 0.45520381 0.45520381 0.45520381 0.45432293 0.45349047\n",
      " 0.45261109 0.45177868 0.45096311 0.45014733 0.44932467 0.44849321\n",
      " 0.44765374 0.44680855 0.44596025 0.4451113  0.44426402 0.44341978\n",
      " 0.44257978 0.4417446  0.44091421 0.44008875]\n",
      "18 day output [[0.4392681]]\n",
      "19 day input [0.43989241 0.43803021 0.44982413 0.45520381 0.45520381 0.45520381\n",
      " 0.45520381 0.45520381 0.45520381 0.45520381 0.45520381 0.45520381\n",
      " 0.45520381 0.45520381 0.45520381 0.45520381 0.45520381 0.45520381\n",
      " 0.45520381 0.45520381 0.45520381 0.45520381 0.45520381 0.45520381\n",
      " 0.45520381 0.45520381 0.45520381 0.45520381 0.45520381 0.45520381\n",
      " 0.45520381 0.45520381 0.45520381 0.45520381 0.45520381 0.45520381\n",
      " 0.45520381 0.45520381 0.45520381 0.45520381 0.45520381 0.45520381\n",
      " 0.45520381 0.45520381 0.45520381 0.45520381 0.45520381 0.45520381\n",
      " 0.45520381 0.45520381 0.45520381 0.45520381 0.45520381 0.45520381\n",
      " 0.45520381 0.45520381 0.45520381 0.45520381 0.45520381 0.45520381\n",
      " 0.45520381 0.45520381 0.45520381 0.45520381 0.45520381 0.45520381\n",
      " 0.45520381 0.45520381 0.45520381 0.45520381 0.45520381 0.45520381\n",
      " 0.45520381 0.45520381 0.45520381 0.45520381 0.45520381 0.45520381\n",
      " 0.45520381 0.45520381 0.45520381 0.45432293 0.45349047 0.45261109\n",
      " 0.45177868 0.45096311 0.45014733 0.44932467 0.44849321 0.44765374\n",
      " 0.44680855 0.44596025 0.4451113  0.44426402 0.44341978 0.44257978\n",
      " 0.4417446  0.44091421 0.44008875 0.43926811]\n",
      "19 day output [[0.43845195]]\n",
      "20 day input [0.43803021 0.44982413 0.45520381 0.45520381 0.45520381 0.45520381\n",
      " 0.45520381 0.45520381 0.45520381 0.45520381 0.45520381 0.45520381\n",
      " 0.45520381 0.45520381 0.45520381 0.45520381 0.45520381 0.45520381\n",
      " 0.45520381 0.45520381 0.45520381 0.45520381 0.45520381 0.45520381\n",
      " 0.45520381 0.45520381 0.45520381 0.45520381 0.45520381 0.45520381\n",
      " 0.45520381 0.45520381 0.45520381 0.45520381 0.45520381 0.45520381\n",
      " 0.45520381 0.45520381 0.45520381 0.45520381 0.45520381 0.45520381\n",
      " 0.45520381 0.45520381 0.45520381 0.45520381 0.45520381 0.45520381\n",
      " 0.45520381 0.45520381 0.45520381 0.45520381 0.45520381 0.45520381\n",
      " 0.45520381 0.45520381 0.45520381 0.45520381 0.45520381 0.45520381\n",
      " 0.45520381 0.45520381 0.45520381 0.45520381 0.45520381 0.45520381\n",
      " 0.45520381 0.45520381 0.45520381 0.45520381 0.45520381 0.45520381\n",
      " 0.45520381 0.45520381 0.45520381 0.45520381 0.45520381 0.45520381\n",
      " 0.45520381 0.45520381 0.45432293 0.45349047 0.45261109 0.45177868\n",
      " 0.45096311 0.45014733 0.44932467 0.44849321 0.44765374 0.44680855\n",
      " 0.44596025 0.4451113  0.44426402 0.44341978 0.44257978 0.4417446\n",
      " 0.44091421 0.44008875 0.43926811 0.43845195]\n",
      "20 day output [[0.43763992]]\n",
      "21 day input [0.44982413 0.45520381 0.45520381 0.45520381 0.45520381 0.45520381\n",
      " 0.45520381 0.45520381 0.45520381 0.45520381 0.45520381 0.45520381\n",
      " 0.45520381 0.45520381 0.45520381 0.45520381 0.45520381 0.45520381\n",
      " 0.45520381 0.45520381 0.45520381 0.45520381 0.45520381 0.45520381\n",
      " 0.45520381 0.45520381 0.45520381 0.45520381 0.45520381 0.45520381\n",
      " 0.45520381 0.45520381 0.45520381 0.45520381 0.45520381 0.45520381\n",
      " 0.45520381 0.45520381 0.45520381 0.45520381 0.45520381 0.45520381\n",
      " 0.45520381 0.45520381 0.45520381 0.45520381 0.45520381 0.45520381\n",
      " 0.45520381 0.45520381 0.45520381 0.45520381 0.45520381 0.45520381\n",
      " 0.45520381 0.45520381 0.45520381 0.45520381 0.45520381 0.45520381\n",
      " 0.45520381 0.45520381 0.45520381 0.45520381 0.45520381 0.45520381\n",
      " 0.45520381 0.45520381 0.45520381 0.45520381 0.45520381 0.45520381\n",
      " 0.45520381 0.45520381 0.45520381 0.45520381 0.45520381 0.45520381\n",
      " 0.45520381 0.45432293 0.45349047 0.45261109 0.45177868 0.45096311\n",
      " 0.45014733 0.44932467 0.44849321 0.44765374 0.44680855 0.44596025\n",
      " 0.4451113  0.44426402 0.44341978 0.44257978 0.4417446  0.44091421\n",
      " 0.44008875 0.43926811 0.43845195 0.43763992]\n",
      "21 day output [[0.43683186]]\n",
      "22 day input [0.45520381 0.45520381 0.45520381 0.45520381 0.45520381 0.45520381\n",
      " 0.45520381 0.45520381 0.45520381 0.45520381 0.45520381 0.45520381\n",
      " 0.45520381 0.45520381 0.45520381 0.45520381 0.45520381 0.45520381\n",
      " 0.45520381 0.45520381 0.45520381 0.45520381 0.45520381 0.45520381\n",
      " 0.45520381 0.45520381 0.45520381 0.45520381 0.45520381 0.45520381\n",
      " 0.45520381 0.45520381 0.45520381 0.45520381 0.45520381 0.45520381\n",
      " 0.45520381 0.45520381 0.45520381 0.45520381 0.45520381 0.45520381\n",
      " 0.45520381 0.45520381 0.45520381 0.45520381 0.45520381 0.45520381\n",
      " 0.45520381 0.45520381 0.45520381 0.45520381 0.45520381 0.45520381\n",
      " 0.45520381 0.45520381 0.45520381 0.45520381 0.45520381 0.45520381\n",
      " 0.45520381 0.45520381 0.45520381 0.45520381 0.45520381 0.45520381\n",
      " 0.45520381 0.45520381 0.45520381 0.45520381 0.45520381 0.45520381\n",
      " 0.45520381 0.45520381 0.45520381 0.45520381 0.45520381 0.45520381\n",
      " 0.45432293 0.45349047 0.45261109 0.45177868 0.45096311 0.45014733\n",
      " 0.44932467 0.44849321 0.44765374 0.44680855 0.44596025 0.4451113\n",
      " 0.44426402 0.44341978 0.44257978 0.4417446  0.44091421 0.44008875\n",
      " 0.43926811 0.43845195 0.43763992 0.43683186]\n",
      "22 day output [[0.4360271]]\n",
      "23 day input [0.45520381 0.45520381 0.45520381 0.45520381 0.45520381 0.45520381\n",
      " 0.45520381 0.45520381 0.45520381 0.45520381 0.45520381 0.45520381\n",
      " 0.45520381 0.45520381 0.45520381 0.45520381 0.45520381 0.45520381\n",
      " 0.45520381 0.45520381 0.45520381 0.45520381 0.45520381 0.45520381\n",
      " 0.45520381 0.45520381 0.45520381 0.45520381 0.45520381 0.45520381\n",
      " 0.45520381 0.45520381 0.45520381 0.45520381 0.45520381 0.45520381\n",
      " 0.45520381 0.45520381 0.45520381 0.45520381 0.45520381 0.45520381\n",
      " 0.45520381 0.45520381 0.45520381 0.45520381 0.45520381 0.45520381\n",
      " 0.45520381 0.45520381 0.45520381 0.45520381 0.45520381 0.45520381\n",
      " 0.45520381 0.45520381 0.45520381 0.45520381 0.45520381 0.45520381\n",
      " 0.45520381 0.45520381 0.45520381 0.45520381 0.45520381 0.45520381\n",
      " 0.45520381 0.45520381 0.45520381 0.45520381 0.45520381 0.45520381\n",
      " 0.45520381 0.45520381 0.45520381 0.45520381 0.45520381 0.45432293\n",
      " 0.45349047 0.45261109 0.45177868 0.45096311 0.45014733 0.44932467\n",
      " 0.44849321 0.44765374 0.44680855 0.44596025 0.4451113  0.44426402\n",
      " 0.44341978 0.44257978 0.4417446  0.44091421 0.44008875 0.43926811\n",
      " 0.43845195 0.43763992 0.43683186 0.43602711]\n",
      "23 day output [[0.43522564]]\n",
      "24 day input [0.45520381 0.45520381 0.45520381 0.45520381 0.45520381 0.45520381\n",
      " 0.45520381 0.45520381 0.45520381 0.45520381 0.45520381 0.45520381\n",
      " 0.45520381 0.45520381 0.45520381 0.45520381 0.45520381 0.45520381\n",
      " 0.45520381 0.45520381 0.45520381 0.45520381 0.45520381 0.45520381\n",
      " 0.45520381 0.45520381 0.45520381 0.45520381 0.45520381 0.45520381\n",
      " 0.45520381 0.45520381 0.45520381 0.45520381 0.45520381 0.45520381\n",
      " 0.45520381 0.45520381 0.45520381 0.45520381 0.45520381 0.45520381\n",
      " 0.45520381 0.45520381 0.45520381 0.45520381 0.45520381 0.45520381\n",
      " 0.45520381 0.45520381 0.45520381 0.45520381 0.45520381 0.45520381\n",
      " 0.45520381 0.45520381 0.45520381 0.45520381 0.45520381 0.45520381\n",
      " 0.45520381 0.45520381 0.45520381 0.45520381 0.45520381 0.45520381\n",
      " 0.45520381 0.45520381 0.45520381 0.45520381 0.45520381 0.45520381\n",
      " 0.45520381 0.45520381 0.45520381 0.45520381 0.45432293 0.45349047\n",
      " 0.45261109 0.45177868 0.45096311 0.45014733 0.44932467 0.44849321\n",
      " 0.44765374 0.44680855 0.44596025 0.4451113  0.44426402 0.44341978\n",
      " 0.44257978 0.4417446  0.44091421 0.44008875 0.43926811 0.43845195\n",
      " 0.43763992 0.43683186 0.43602711 0.43522564]\n",
      "24 day output [[0.43442702]]\n",
      "25 day input [0.45520381 0.45520381 0.45520381 0.45520381 0.45520381 0.45520381\n",
      " 0.45520381 0.45520381 0.45520381 0.45520381 0.45520381 0.45520381\n",
      " 0.45520381 0.45520381 0.45520381 0.45520381 0.45520381 0.45520381\n",
      " 0.45520381 0.45520381 0.45520381 0.45520381 0.45520381 0.45520381\n",
      " 0.45520381 0.45520381 0.45520381 0.45520381 0.45520381 0.45520381\n",
      " 0.45520381 0.45520381 0.45520381 0.45520381 0.45520381 0.45520381\n",
      " 0.45520381 0.45520381 0.45520381 0.45520381 0.45520381 0.45520381\n",
      " 0.45520381 0.45520381 0.45520381 0.45520381 0.45520381 0.45520381\n",
      " 0.45520381 0.45520381 0.45520381 0.45520381 0.45520381 0.45520381\n",
      " 0.45520381 0.45520381 0.45520381 0.45520381 0.45520381 0.45520381\n",
      " 0.45520381 0.45520381 0.45520381 0.45520381 0.45520381 0.45520381\n",
      " 0.45520381 0.45520381 0.45520381 0.45520381 0.45520381 0.45520381\n",
      " 0.45520381 0.45520381 0.45520381 0.45432293 0.45349047 0.45261109\n",
      " 0.45177868 0.45096311 0.45014733 0.44932467 0.44849321 0.44765374\n",
      " 0.44680855 0.44596025 0.4451113  0.44426402 0.44341978 0.44257978\n",
      " 0.4417446  0.44091421 0.44008875 0.43926811 0.43845195 0.43763992\n",
      " 0.43683186 0.43602711 0.43522564 0.43442702]\n",
      "25 day output [[0.4336312]]\n",
      "26 day input [0.45520381 0.45520381 0.45520381 0.45520381 0.45520381 0.45520381\n",
      " 0.45520381 0.45520381 0.45520381 0.45520381 0.45520381 0.45520381\n",
      " 0.45520381 0.45520381 0.45520381 0.45520381 0.45520381 0.45520381\n",
      " 0.45520381 0.45520381 0.45520381 0.45520381 0.45520381 0.45520381\n",
      " 0.45520381 0.45520381 0.45520381 0.45520381 0.45520381 0.45520381\n",
      " 0.45520381 0.45520381 0.45520381 0.45520381 0.45520381 0.45520381\n",
      " 0.45520381 0.45520381 0.45520381 0.45520381 0.45520381 0.45520381\n",
      " 0.45520381 0.45520381 0.45520381 0.45520381 0.45520381 0.45520381\n",
      " 0.45520381 0.45520381 0.45520381 0.45520381 0.45520381 0.45520381\n",
      " 0.45520381 0.45520381 0.45520381 0.45520381 0.45520381 0.45520381\n",
      " 0.45520381 0.45520381 0.45520381 0.45520381 0.45520381 0.45520381\n",
      " 0.45520381 0.45520381 0.45520381 0.45520381 0.45520381 0.45520381\n",
      " 0.45520381 0.45520381 0.45432293 0.45349047 0.45261109 0.45177868\n",
      " 0.45096311 0.45014733 0.44932467 0.44849321 0.44765374 0.44680855\n",
      " 0.44596025 0.4451113  0.44426402 0.44341978 0.44257978 0.4417446\n",
      " 0.44091421 0.44008875 0.43926811 0.43845195 0.43763992 0.43683186\n",
      " 0.43602711 0.43522564 0.43442702 0.43363121]\n",
      "26 day output [[0.43283802]]\n",
      "27 day input [0.45520381 0.45520381 0.45520381 0.45520381 0.45520381 0.45520381\n",
      " 0.45520381 0.45520381 0.45520381 0.45520381 0.45520381 0.45520381\n",
      " 0.45520381 0.45520381 0.45520381 0.45520381 0.45520381 0.45520381\n",
      " 0.45520381 0.45520381 0.45520381 0.45520381 0.45520381 0.45520381\n",
      " 0.45520381 0.45520381 0.45520381 0.45520381 0.45520381 0.45520381\n",
      " 0.45520381 0.45520381 0.45520381 0.45520381 0.45520381 0.45520381\n",
      " 0.45520381 0.45520381 0.45520381 0.45520381 0.45520381 0.45520381\n",
      " 0.45520381 0.45520381 0.45520381 0.45520381 0.45520381 0.45520381\n",
      " 0.45520381 0.45520381 0.45520381 0.45520381 0.45520381 0.45520381\n",
      " 0.45520381 0.45520381 0.45520381 0.45520381 0.45520381 0.45520381\n",
      " 0.45520381 0.45520381 0.45520381 0.45520381 0.45520381 0.45520381\n",
      " 0.45520381 0.45520381 0.45520381 0.45520381 0.45520381 0.45520381\n",
      " 0.45520381 0.45432293 0.45349047 0.45261109 0.45177868 0.45096311\n",
      " 0.45014733 0.44932467 0.44849321 0.44765374 0.44680855 0.44596025\n",
      " 0.4451113  0.44426402 0.44341978 0.44257978 0.4417446  0.44091421\n",
      " 0.44008875 0.43926811 0.43845195 0.43763992 0.43683186 0.43602711\n",
      " 0.43522564 0.43442702 0.43363121 0.43283802]\n",
      "27 day output [[0.43204725]]\n",
      "28 day input [0.45520381 0.45520381 0.45520381 0.45520381 0.45520381 0.45520381\n",
      " 0.45520381 0.45520381 0.45520381 0.45520381 0.45520381 0.45520381\n",
      " 0.45520381 0.45520381 0.45520381 0.45520381 0.45520381 0.45520381\n",
      " 0.45520381 0.45520381 0.45520381 0.45520381 0.45520381 0.45520381\n",
      " 0.45520381 0.45520381 0.45520381 0.45520381 0.45520381 0.45520381\n",
      " 0.45520381 0.45520381 0.45520381 0.45520381 0.45520381 0.45520381\n",
      " 0.45520381 0.45520381 0.45520381 0.45520381 0.45520381 0.45520381\n",
      " 0.45520381 0.45520381 0.45520381 0.45520381 0.45520381 0.45520381\n",
      " 0.45520381 0.45520381 0.45520381 0.45520381 0.45520381 0.45520381\n",
      " 0.45520381 0.45520381 0.45520381 0.45520381 0.45520381 0.45520381\n",
      " 0.45520381 0.45520381 0.45520381 0.45520381 0.45520381 0.45520381\n",
      " 0.45520381 0.45520381 0.45520381 0.45520381 0.45520381 0.45520381\n",
      " 0.45432293 0.45349047 0.45261109 0.45177868 0.45096311 0.45014733\n",
      " 0.44932467 0.44849321 0.44765374 0.44680855 0.44596025 0.4451113\n",
      " 0.44426402 0.44341978 0.44257978 0.4417446  0.44091421 0.44008875\n",
      " 0.43926811 0.43845195 0.43763992 0.43683186 0.43602711 0.43522564\n",
      " 0.43442702 0.43363121 0.43283802 0.43204725]\n",
      "28 day output [[0.43125883]]\n",
      "29 day input [0.45520381 0.45520381 0.45520381 0.45520381 0.45520381 0.45520381\n",
      " 0.45520381 0.45520381 0.45520381 0.45520381 0.45520381 0.45520381\n",
      " 0.45520381 0.45520381 0.45520381 0.45520381 0.45520381 0.45520381\n",
      " 0.45520381 0.45520381 0.45520381 0.45520381 0.45520381 0.45520381\n",
      " 0.45520381 0.45520381 0.45520381 0.45520381 0.45520381 0.45520381\n",
      " 0.45520381 0.45520381 0.45520381 0.45520381 0.45520381 0.45520381\n",
      " 0.45520381 0.45520381 0.45520381 0.45520381 0.45520381 0.45520381\n",
      " 0.45520381 0.45520381 0.45520381 0.45520381 0.45520381 0.45520381\n",
      " 0.45520381 0.45520381 0.45520381 0.45520381 0.45520381 0.45520381\n",
      " 0.45520381 0.45520381 0.45520381 0.45520381 0.45520381 0.45520381\n",
      " 0.45520381 0.45520381 0.45520381 0.45520381 0.45520381 0.45520381\n",
      " 0.45520381 0.45520381 0.45520381 0.45520381 0.45520381 0.45432293\n",
      " 0.45349047 0.45261109 0.45177868 0.45096311 0.45014733 0.44932467\n",
      " 0.44849321 0.44765374 0.44680855 0.44596025 0.4451113  0.44426402\n",
      " 0.44341978 0.44257978 0.4417446  0.44091421 0.44008875 0.43926811\n",
      " 0.43845195 0.43763992 0.43683186 0.43602711 0.43522564 0.43442702\n",
      " 0.43363121 0.43283802 0.43204725 0.43125883]\n",
      "29 day output [[0.4304726]]\n",
      "[[0.4543229341506958], [0.4534904658794403], [0.4526110887527466], [0.45177868008613586], [0.4509631097316742], [0.4501473307609558], [0.44932466745376587], [0.44849321246147156], [0.44765374064445496], [0.4468085467815399], [0.44596025347709656], [0.44511130452156067], [0.4442640244960785], [0.44341978430747986], [0.4425797760486603], [0.4417445957660675], [0.44091421365737915], [0.44008874893188477], [0.4392681121826172], [0.43845194578170776], [0.43763992190361023], [0.43683186173439026], [0.4360271096229553], [0.43522563576698303], [0.43442702293395996], [0.43363121151924133], [0.4328380227088928], [0.4320472478866577], [0.43125882744789124], [0.43047261238098145]]\n"
     ]
    }
   ],
   "source": [
    "#demonstrate prdiction for next 10days\n",
    "from numpy import array\n",
    "\n",
    "lst_output=[]\n",
    "n_steps=100\n",
    "i=0\n",
    "while(i<30):\n",
    "    \n",
    "    if(len(temp_input)>100):\n",
    "        #print(temp_input)\n",
    "        x_input=np.array(temp_input[1:])\n",
    "        print(\"{} day input {}\".format(i,x_input))\n",
    "        x_input=x_input.reshape(1,-1)\n",
    "        x_input = x_input.reshape((1, n_steps, 1))\n",
    "        #print(x_input)\n",
    "        yhat = model.predict(x_input, verbose=0)\n",
    "        print(\"{} day output {}\".format(i,yhat))\n",
    "        temp_input.extend(yhat[0].tolist())\n",
    "        temp_input=temp_input[1:]\n",
    "        #print(temp_input)\n",
    "        lst_output.extend(yhat.tolist())\n",
    "        i=i+1\n",
    "    else:\n",
    "        x_input = x_input.reshape((1, n_steps,1))\n",
    "        yhat = model.predict(x_input, verbose=0)\n",
    "        print(yhat[0])\n",
    "        temp_input.extend(yhat[0].tolist())\n",
    "        print(len(temp_input))\n",
    "        lst_output.extend(yhat.tolist())\n",
    "        i=i+1\n",
    "    \n",
    "\n",
    "print(lst_output)"
   ]
  },
  {
   "cell_type": "code",
   "execution_count": 134,
   "id": "1a871fa7-3230-4330-b2d7-7b8c928c8d6c",
   "metadata": {},
   "outputs": [],
   "source": [
    "day_new=np.arange(1,101)\n",
    "day_pred=np.arange(101,131)"
   ]
  },
  {
   "cell_type": "code",
   "execution_count": 135,
   "id": "74c27ec6-e814-48a4-83c3-eb3e4f4ebe42",
   "metadata": {},
   "outputs": [],
   "source": [
    "import matplotlib.pyplot as plt"
   ]
  },
  {
   "cell_type": "code",
   "execution_count": 136,
   "id": "e8f19471-db18-40d9-9697-050d43737f38",
   "metadata": {},
   "outputs": [
    {
     "data": {
      "text/plain": [
       "4512"
      ]
     },
     "execution_count": 136,
     "metadata": {},
     "output_type": "execute_result"
    }
   ],
   "source": [
    "len(df1)"
   ]
  },
  {
   "cell_type": "code",
   "execution_count": 138,
   "id": "61f902ad-f003-4ab4-89df-ac09e1cd05e4",
   "metadata": {},
   "outputs": [
    {
     "data": {
      "text/plain": [
       "[<matplotlib.lines.Line2D at 0x23d9f4c72d0>]"
      ]
     },
     "execution_count": 138,
     "metadata": {},
     "output_type": "execute_result"
    },
    {
     "data": {
      "image/png": "[encoded data removed]",
      "text/plain": [
       "<Figure size 640x480 with 1 Axes>"
      ]
     },
     "metadata": {},
     "output_type": "display_data"
    }
   ],
   "source": [
    "plt.plot(day_new,scaler.inverse_transform(df1[4412:]))\n",
    "plt.plot(day_pred,scaler.inverse_transform(lst_output))"
   ]
  },
  {
   "cell_type": "code",
   "execution_count": 141,
   "id": "eafe236f-bf6e-40d2-9c5c-0a099688977d",
   "metadata": {},
   "outputs": [
    {
     "data": {
      "text/plain": [
       "[<matplotlib.lines.Line2D at 0x23d9f729110>]"
      ]
     },
     "execution_count": 141,
     "metadata": {},
     "output_type": "execute_result"
    },
    {
     "data": {
      "image/png": "[encoded data removed]",
      "text/plain": [
       "<Figure size 640x480 with 1 Axes>"
      ]
     },
     "metadata": {},
     "output_type": "display_data"
    }
   ],
   "source": [
    "df3=df1.tolist()\n",
    "df3.extend(lst_output)\n",
    "plt.plot(df3[1200:])"
   ]
  },
  {
   "cell_type": "code",
   "execution_count": 142,
   "id": "af51bbf4-4a19-4a2a-9d4f-90e1f054e786",
   "metadata": {},
   "outputs": [],
   "source": [
    "df3=scaler.inverse_transform(df3).tolist()\n"
   ]
  },
  {
   "cell_type": "code",
   "execution_count": 143,
   "id": "8269051e-5abb-4da9-85d0-d031d902a140",
   "metadata": {},
   "outputs": [
    {
     "data": {
      "text/plain": [
       "[<matplotlib.lines.Line2D at 0x23d9f78d7d0>]"
      ]
     },
     "execution_count": 143,
     "metadata": {},
     "output_type": "execute_result"
    },
    {
     "data": {
      "image/png": "[encoded data removed]",
      "text/plain": [
       "<Figure size 640x480 with 1 Axes>"
      ]
     },
     "metadata": {},
     "output_type": "display_data"
    }
   ],
   "source": [
    "plt.plot(df3)\n"
   ]
  },
  {
   "cell_type": "code",
   "execution_count": null,
   "id": "86fa2f0b-c7d3-464d-b3e7-d60d4827e138",
   "metadata": {},
   "outputs": [],
   "source": [
    "###this is the price prediction of my model.. so jao aab dosto.."
   ]
  },
  {
   "cell_type": "code",
   "execution_count": 147,
   "id": "2fa5c601-e211-4171-8bee-37eecfc189ae",
   "metadata": {},
   "outputs": [
    {
     "name": "stderr",
     "output_type": "stream",
     "text": [
      "WARNING:absl:You are saving your model as an HDF5 file via `model.save()` or `keras.saving.save_model(model)`. This file format is considered legacy. We recommend using instead the native Keras format, e.g. `model.save('my_model.keras')` or `keras.saving.save_model(model, 'my_model.keras')`. \n"
     ]
    }
   ],
   "source": [
    "model.save('TTM_prediction.h5')\n"
   ]
  },
  {
   "cell_type": "code",
   "execution_count": null,
   "id": "988d1eeb-a72c-4edb-ac76-b53d10b583ca",
   "metadata": {},
   "outputs": [],
   "source": []
  }
 ],
 "metadata": {
  "kernelspec": {
   "display_name": "Python 3 (ipykernel)",
   "language": "python",
   "name": "python3"
  },
  "language_info": {
   "codemirror_mode": {
    "name": "ipython",
    "version": 3
   },
   "file_extension": ".py",
   "mimetype": "text/x-python",
   "name": "python",
   "nbconvert_exporter": "python",
   "pygments_lexer": "ipython3",
   "version": "3.11.9"
  }
 },
 "nbformat": 4,
 "nbformat_minor": 5
}
